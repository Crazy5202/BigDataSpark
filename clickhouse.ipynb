{
 "cells": [
  {
   "cell_type": "markdown",
   "id": "a80b71cb",
   "metadata": {},
   "source": [
    "Запускается либо локально, либо в контейнере с подключённым spark master/worker"
   ]
  },
  {
   "cell_type": "markdown",
   "id": "c05cb693",
   "metadata": {},
   "source": [
    "# Общая настройка"
   ]
  },
  {
   "cell_type": "code",
   "execution_count": 1,
   "id": "ac4d1ef6",
   "metadata": {},
   "outputs": [],
   "source": [
    "import os\n",
    "os.environ['PYSPARK_SUBMIT_ARGS'] = '--jars ./jars/postgresql-42.6.0.jar,./jars/clickhouse-jdbc-0.4.6.jar pyspark-shell'"
   ]
  },
  {
   "cell_type": "code",
   "execution_count": 2,
   "id": "b9469eda",
   "metadata": {},
   "outputs": [],
   "source": [
    "USER = os.getenv(\"USER\")\n",
    "PASSWORD = os.getenv(\"PASSWORD\")\n",
    "HOST = os.getenv(\"HOST\")\n",
    "\n",
    "PG_NAME = os.getenv(\"POSTGRES_DB\")\n",
    "PG_PORT = os.getenv(\"POSTGRES_PORT\")\n",
    "\n",
    "CH_NAME = os.getenv(\"CLICKHOUSE_DB\")\n",
    "CH_PORT = os.getenv(\"CLICKHOUSE_PORT\")"
   ]
  },
  {
   "cell_type": "markdown",
   "id": "587d063b",
   "metadata": {},
   "source": [
    "# Настройка подключения pyspark"
   ]
  },
  {
   "cell_type": "code",
   "execution_count": 3,
   "id": "414dbc85",
   "metadata": {},
   "outputs": [
    {
     "name": "stderr",
     "output_type": "stream",
     "text": [
      "WARNING: Using incubator modules: jdk.incubator.vector\n",
      "25/05/25 19:10:07 WARN NativeCodeLoader: Unable to load native-hadoop library for your platform... using builtin-java classes where applicable\n",
      "Using Spark's default log4j profile: org/apache/spark/log4j2-defaults.properties\n",
      "Setting default log level to \"WARN\".\n",
      "To adjust logging level use sc.setLogLevel(newLevel). For SparkR, use setLogLevel(newLevel).\n"
     ]
    }
   ],
   "source": [
    "from pyspark.sql import SparkSession\n",
    "\n",
    "spark = SparkSession.builder \\\n",
    "    .appName(\"Spark SQL with PostgreSQL\") \\\n",
    "    .getOrCreate()"
   ]
  },
  {
   "cell_type": "code",
   "execution_count": 4,
   "id": "084be06c",
   "metadata": {},
   "outputs": [],
   "source": [
    "pg_jdbc_url = f\"jdbc:postgresql://{HOST}:{PG_PORT}/{PG_NAME}\"\n",
    "pg_properties = {\n",
    "    \"user\": USER,\n",
    "    \"password\": PASSWORD,\n",
    "    \"driver\": \"org.postgresql.Driver\"\n",
    "}"
   ]
  },
  {
   "cell_type": "code",
   "execution_count": 5,
   "id": "15ae4da7",
   "metadata": {},
   "outputs": [],
   "source": [
    "ch_jdbc_url = f\"jdbc:clickhouse://{HOST}:{CH_PORT}/{CH_NAME}\"\n",
    "ch_properties = {\n",
    "    \"user\": USER,\n",
    "    \"password\": PASSWORD,\n",
    "    \"driver\": \"com.clickhouse.jdbc.ClickHouseDriver\"\n",
    "}"
   ]
  },
  {
   "cell_type": "markdown",
   "id": "a90aab7b",
   "metadata": {},
   "source": [
    "# Витрины"
   ]
  },
  {
   "cell_type": "code",
   "execution_count": 6,
   "id": "6b7a5ad8",
   "metadata": {},
   "outputs": [],
   "source": [
    "from pyspark.sql.functions import *"
   ]
  },
  {
   "cell_type": "code",
   "execution_count": 7,
   "id": "b3a933f4",
   "metadata": {},
   "outputs": [],
   "source": [
    "def load_table(table_name):\n",
    "    return spark.read.jdbc(url=pg_jdbc_url, table=table_name, properties=pg_properties)"
   ]
  },
  {
   "cell_type": "code",
   "execution_count": 8,
   "id": "ee0de4ed",
   "metadata": {},
   "outputs": [],
   "source": [
    "d_customer = load_table(\"d_customer\")\n",
    "d_product = load_table(\"d_product\")\n",
    "d_seller = load_table(\"d_seller\")\n",
    "d_store = load_table(\"d_store\")\n",
    "d_supplier = load_table(\"d_supplier\")\n",
    "\n",
    "f_sales = load_table(\"f_sales\")"
   ]
  },
  {
   "cell_type": "code",
   "execution_count": 9,
   "id": "9784981a",
   "metadata": {},
   "outputs": [],
   "source": [
    "def save_report(df, name: str, order: str):\n",
    "    df.write \\\n",
    "    .mode(\"overwrite\") \\\n",
    "    .option(\"createTableOptions\", f\"\"\"\n",
    "        ENGINE = MergeTree()\n",
    "        ORDER BY ({order})\n",
    "    \"\"\") \\\n",
    "    .jdbc(url=ch_jdbc_url, table=name, properties=ch_properties)"
   ]
  },
  {
   "cell_type": "code",
   "execution_count": 10,
   "id": "211dd576",
   "metadata": {},
   "outputs": [],
   "source": [
    "def read_show(table_name:str):\n",
    "    ch_df = spark.read.jdbc(url=ch_jdbc_url, table=table_name, properties=ch_properties)\n",
    "    ch_df.show()"
   ]
  },
  {
   "cell_type": "code",
   "execution_count": 11,
   "id": "683441d7",
   "metadata": {},
   "outputs": [],
   "source": [
    "def save_show(df, name, order):\n",
    "    save_report(df, name, order)\n",
    "    read_show(name)"
   ]
  },
  {
   "cell_type": "markdown",
   "id": "13fc88ec",
   "metadata": {},
   "source": [
    "## 1. Витрина продаж по продуктам"
   ]
  },
  {
   "cell_type": "markdown",
   "id": "cbb95317",
   "metadata": {},
   "source": [
    "### Топ-10 самых продаваемых продуктов"
   ]
  },
  {
   "cell_type": "code",
   "execution_count": 12,
   "id": "b631d995",
   "metadata": {},
   "outputs": [],
   "source": [
    "top_products = f_sales \\\n",
    "    .join(d_product, f_sales.sale_product_id == d_product.product_id) \\\n",
    "    .groupBy(\n",
    "        \"product_id\",\n",
    "    ) \\\n",
    "    .agg(\n",
    "        sum(\"sale_quantity\").alias(\"total_quantity_sold\"),\n",
    "        sum(\"sale_total_price\").alias(\"total_revenue\")\n",
    "    ) \\\n",
    "    .orderBy(desc(\"total_revenue\")) \\\n",
    "    .limit(10)"
   ]
  },
  {
   "cell_type": "code",
   "execution_count": 13,
   "id": "6370be77",
   "metadata": {},
   "outputs": [
    {
     "name": "stderr",
     "output_type": "stream",
     "text": [
      "25/05/25 19:10:16 WARN ClickHouseConnectionImpl: [JDBC Compliant Mode] Transaction is not supported. You may change jdbcCompliant to false to throw SQLException instead.\n",
      "25/05/25 19:10:16 WARN ClickHouseConnectionImpl: [JDBC Compliant Mode] Transaction is not supported. You may change jdbcCompliant to false to throw SQLException instead.\n",
      "25/05/25 19:10:16 WARN ClickHouseConnectionImpl: [JDBC Compliant Mode] Transaction [5195e361-ebb8-419d-9998-f0a1a0eaaa9f] (2 queries & 0 savepoints) is committed.\n",
      "25/05/25 19:10:16 WARN ClickHouseConnectionImpl: [JDBC Compliant Mode] Transaction [964a4038-c913-4e04-98ce-46ce33a06293] (0 queries & 0 savepoints) is committed.\n"
     ]
    },
    {
     "name": "stdout",
     "output_type": "stream",
     "text": [
      "+----------+-------------------+--------------------+\n",
      "|product_id|total_quantity_sold|       total_revenue|\n",
      "+----------+-------------------+--------------------+\n",
      "|       124|                  4|499.6900000000000...|\n",
      "|       126|                  9|499.6200000000000...|\n",
      "|       383|                 10|499.7300000000000...|\n",
      "|      2481|                  8|499.7600000000000...|\n",
      "|      2810|                  2|499.7600000000000...|\n",
      "|      3826|                  7|499.8500000000000...|\n",
      "|      5001|                  8|499.7100000000000...|\n",
      "|      5523|                  9|499.8000000000000...|\n",
      "|      7488|                 10|499.5900000000000...|\n",
      "|      9481|                  3|499.6200000000000...|\n",
      "+----------+-------------------+--------------------+\n",
      "\n"
     ]
    }
   ],
   "source": [
    "save_show(top_products, \"1_top10products\", \"product_id\")"
   ]
  },
  {
   "cell_type": "markdown",
   "id": "ec60e8ed",
   "metadata": {},
   "source": [
    "### Общая выручка по категориям продуктов"
   ]
  },
  {
   "cell_type": "code",
   "execution_count": 14,
   "id": "3635800b",
   "metadata": {},
   "outputs": [],
   "source": [
    "revenue_by_category = f_sales \\\n",
    "    .join(d_product, f_sales.sale_product_id == d_product.product_id) \\\n",
    "    .groupBy(\n",
    "        \"product_category\",\n",
    "        \"pet_category\"\n",
    "    ) \\\n",
    "    .agg(\n",
    "        sum(\"sale_total_price\").alias(\"total_revenue\")\n",
    "    ) \\\n",
    "    .orderBy(desc(\"total_revenue\"))"
   ]
  },
  {
   "cell_type": "code",
   "execution_count": 15,
   "id": "90d99b82",
   "metadata": {},
   "outputs": [
    {
     "name": "stderr",
     "output_type": "stream",
     "text": [
      "25/05/25 19:10:17 WARN ClickHouseConnectionImpl: [JDBC Compliant Mode] Transaction is not supported. You may change jdbcCompliant to false to throw SQLException instead.\n",
      "25/05/25 19:10:17 WARN ClickHouseConnectionImpl: [JDBC Compliant Mode] Transaction is not supported. You may change jdbcCompliant to false to throw SQLException instead.\n",
      "25/05/25 19:10:17 WARN ClickHouseConnectionImpl: [JDBC Compliant Mode] Transaction [474d4d53-5399-4f4b-807e-f51f8784bd40] (2 queries & 0 savepoints) is committed.\n",
      "25/05/25 19:10:17 WARN ClickHouseConnectionImpl: [JDBC Compliant Mode] Transaction [19b2deb9-cb5b-4666-b977-93d5f8219c30] (0 queries & 0 savepoints) is committed.\n"
     ]
    },
    {
     "name": "stdout",
     "output_type": "stream",
     "text": [
      "+----------------+------------+--------------------+\n",
      "|product_category|pet_category|       total_revenue|\n",
      "+----------------+------------+--------------------+\n",
      "|            Cage|       Birds|181830.9300000000...|\n",
      "|            Cage|    Reptiles|172473.9200000000...|\n",
      "|            Cage|        Dogs|166057.7100000000...|\n",
      "|            Cage|        Fish|158665.9600000000...|\n",
      "|            Cage|        Cats|152089.4200000000...|\n",
      "|            Food|       Birds|177085.2300000000...|\n",
      "|            Food|        Fish|170664.5800000000...|\n",
      "|            Food|        Cats|165220.8100000000...|\n",
      "|            Food|        Dogs|162632.2800000000...|\n",
      "|            Food|    Reptiles|155029.6500000000...|\n",
      "|             Toy|        Dogs|182909.8500000000...|\n",
      "|             Toy|        Fish|181426.5000000000...|\n",
      "|             Toy|       Birds|176069.2100000000...|\n",
      "|             Toy|        Cats|163869.8900000000...|\n",
      "|             Toy|    Reptiles|163826.1800000000...|\n",
      "+----------------+------------+--------------------+\n",
      "\n"
     ]
    }
   ],
   "source": [
    "save_show(revenue_by_category, \"1_bycategory\", \"product_category\")"
   ]
  },
  {
   "cell_type": "markdown",
   "id": "c0901933",
   "metadata": {},
   "source": [
    "### Средний рейтинг и количество отзывов для каждого продукта"
   ]
  },
  {
   "cell_type": "code",
   "execution_count": 16,
   "id": "bb194af9",
   "metadata": {},
   "outputs": [],
   "source": [
    "product_ratings = d_product.select(\n",
    "    \"product_id\",\n",
    "    \"product_rating\",\n",
    "    \"product_reviews\"\n",
    ")"
   ]
  },
  {
   "cell_type": "code",
   "execution_count": 17,
   "id": "a718fe3a",
   "metadata": {},
   "outputs": [
    {
     "name": "stderr",
     "output_type": "stream",
     "text": [
      "25/05/25 19:10:18 WARN ClickHouseConnectionImpl: [JDBC Compliant Mode] Transaction is not supported. You may change jdbcCompliant to false to throw SQLException instead.\n",
      "25/05/25 19:10:18 WARN ClickHouseConnectionImpl: [JDBC Compliant Mode] Transaction is not supported. You may change jdbcCompliant to false to throw SQLException instead.\n",
      "25/05/25 19:10:18 WARN ClickHouseConnectionImpl: [JDBC Compliant Mode] Transaction [71ea7e65-dae8-4e11-9f5c-3d46bd0d6f91] (11 queries & 0 savepoints) is committed.\n",
      "25/05/25 19:10:18 WARN ClickHouseConnectionImpl: [JDBC Compliant Mode] Transaction [37a77ef8-a548-48f7-ac81-6513630ac8bc] (0 queries & 0 savepoints) is committed.\n"
     ]
    },
    {
     "name": "stdout",
     "output_type": "stream",
     "text": [
      "+----------+--------------------+---------------+\n",
      "|product_id|      product_rating|product_reviews|\n",
      "+----------+--------------------+---------------+\n",
      "|      7664|1.100000000000000000|            460|\n",
      "|      7728|3.300000000000000000|            460|\n",
      "|      7730|2.700000000000000000|            178|\n",
      "|      7731|1.800000000000000000|             38|\n",
      "|      7733|2.600000000000000000|             96|\n",
      "|      7735|1.600000000000000000|            382|\n",
      "|      7736|1.200000000000000000|            650|\n",
      "|      7738|2.000000000000000000|            179|\n",
      "|      7740|1.000000000000000000|            909|\n",
      "|      7742|1.300000000000000000|            766|\n",
      "|      7744|3.900000000000000000|            205|\n",
      "|      7746|2.100000000000000000|            335|\n",
      "|      7748|3.500000000000000000|            309|\n",
      "|      7750|2.200000000000000000|             34|\n",
      "|      7752|4.800000000000000000|            673|\n",
      "|      7754|1.000000000000000000|            210|\n",
      "|      7756|3.800000000000000000|            663|\n",
      "|      7758|3.700000000000000000|            881|\n",
      "|      7760|4.600000000000000000|            237|\n",
      "|      7762|4.300000000000000000|            770|\n",
      "+----------+--------------------+---------------+\n",
      "only showing top 20 rows\n"
     ]
    }
   ],
   "source": [
    "save_show(product_ratings, \"1_ratings\", \"product_id\")"
   ]
  },
  {
   "cell_type": "markdown",
   "id": "602a0a07",
   "metadata": {},
   "source": [
    "## 2. Витрина продаж по клиентам"
   ]
  },
  {
   "cell_type": "markdown",
   "id": "f73dbc57",
   "metadata": {},
   "source": [
    "### Топ-10 клиентов с наибольшей общей суммой покупок"
   ]
  },
  {
   "cell_type": "code",
   "execution_count": 18,
   "id": "77923d16",
   "metadata": {},
   "outputs": [],
   "source": [
    "top_customers = f_sales \\\n",
    "    .join(d_customer, f_sales.sale_customer_id == d_customer.customer_id) \\\n",
    "    .groupBy(\n",
    "        \"customer_id\",\n",
    "    ) \\\n",
    "    .agg(\n",
    "        sum(\"sale_total_price\").alias(\"total_spent\")\n",
    "    ) \\\n",
    "    .orderBy(desc(\"total_spent\")) \\\n",
    "    .limit(10)"
   ]
  },
  {
   "cell_type": "code",
   "execution_count": 19,
   "id": "8bedc405",
   "metadata": {},
   "outputs": [
    {
     "name": "stderr",
     "output_type": "stream",
     "text": [
      "25/05/25 19:10:19 WARN ClickHouseConnectionImpl: [JDBC Compliant Mode] Transaction is not supported. You may change jdbcCompliant to false to throw SQLException instead.\n",
      "25/05/25 19:10:19 WARN ClickHouseConnectionImpl: [JDBC Compliant Mode] Transaction is not supported. You may change jdbcCompliant to false to throw SQLException instead.\n",
      "25/05/25 19:10:19 WARN ClickHouseConnectionImpl: [JDBC Compliant Mode] Transaction [ffbcac96-5453-4a58-a547-60b3ec22fecf] (2 queries & 0 savepoints) is committed.\n",
      "25/05/25 19:10:19 WARN ClickHouseConnectionImpl: [JDBC Compliant Mode] Transaction [8b9f4f3b-2a9f-41f6-92ff-5d61bf1771df] (0 queries & 0 savepoints) is committed.\n"
     ]
    },
    {
     "name": "stdout",
     "output_type": "stream",
     "text": [
      "+-----------+--------------------+\n",
      "|customer_id|         total_spent|\n",
      "+-----------+--------------------+\n",
      "|       1494|499.8000000000000...|\n",
      "|       1527|499.6900000000000...|\n",
      "|       1795|499.7300000000000...|\n",
      "|       4466|499.7600000000000...|\n",
      "|       4470|499.6200000000000...|\n",
      "|       4508|499.5900000000000...|\n",
      "|       5982|499.7100000000000...|\n",
      "|       5991|499.6200000000000...|\n",
      "|       6885|499.8500000000000...|\n",
      "|       7992|499.7600000000000...|\n",
      "+-----------+--------------------+\n",
      "\n"
     ]
    }
   ],
   "source": [
    "save_show(top_customers, \"2_top10customers\", \"customer_id\")"
   ]
  },
  {
   "cell_type": "markdown",
   "id": "95fcd081",
   "metadata": {},
   "source": [
    "### Распределение клиентов по странам"
   ]
  },
  {
   "cell_type": "code",
   "execution_count": 20,
   "id": "c459ef10",
   "metadata": {},
   "outputs": [],
   "source": [
    "customers_by_country = f_sales \\\n",
    "    .join(d_customer, f_sales.sale_customer_id == d_customer.customer_id) \\\n",
    "    .groupBy(\"customer_country\") \\\n",
    "    .agg(\n",
    "        count(\"customer_id\").alias(\"customer_count\")\n",
    "    )"
   ]
  },
  {
   "cell_type": "code",
   "execution_count": 21,
   "id": "7ce94dae",
   "metadata": {},
   "outputs": [
    {
     "name": "stderr",
     "output_type": "stream",
     "text": [
      "25/05/25 19:10:20 WARN ClickHouseConnectionImpl: [JDBC Compliant Mode] Transaction is not supported. You may change jdbcCompliant to false to throw SQLException instead.\n",
      "25/05/25 19:10:20 WARN ClickHouseConnectionImpl: [JDBC Compliant Mode] Transaction is not supported. You may change jdbcCompliant to false to throw SQLException instead.\n",
      "25/05/25 19:10:20 WARN ClickHouseConnectionImpl: [JDBC Compliant Mode] Transaction [68435d53-2114-41e2-8314-62fc10f340dc] (2 queries & 0 savepoints) is committed.\n",
      "25/05/25 19:10:20 WARN ClickHouseConnectionImpl: [JDBC Compliant Mode] Transaction [4d24a1e8-9a45-427b-bca4-6642b4cb02aa] (0 queries & 0 savepoints) is committed.\n"
     ]
    },
    {
     "name": "stdout",
     "output_type": "stream",
     "text": [
      "+-------------------+--------------+\n",
      "|   customer_country|customer_count|\n",
      "+-------------------+--------------+\n",
      "|        Afghanistan|            31|\n",
      "|      Aland Islands|             2|\n",
      "|            Albania|            46|\n",
      "|     American Samoa|             3|\n",
      "|            Andorra|             2|\n",
      "|             Angola|             6|\n",
      "|Antigua and Barbuda|             3|\n",
      "|          Argentina|           113|\n",
      "|            Armenia|            34|\n",
      "|          Australia|             3|\n",
      "|            Austria|             6|\n",
      "|         Azerbaijan|            21|\n",
      "|            Bahamas|             6|\n",
      "|            Bahrain|             3|\n",
      "|         Bangladesh|            17|\n",
      "|           Barbados|             1|\n",
      "|            Belarus|            30|\n",
      "|            Belgium|             5|\n",
      "|             Belize|             1|\n",
      "|              Benin|             4|\n",
      "+-------------------+--------------+\n",
      "only showing top 20 rows\n"
     ]
    }
   ],
   "source": [
    "save_show(customers_by_country, \"2_contryspread\", \"customer_country\")"
   ]
  },
  {
   "cell_type": "markdown",
   "id": "75f6c072",
   "metadata": {},
   "source": [
    "### Средний чек для каждого клиента"
   ]
  },
  {
   "cell_type": "code",
   "execution_count": 22,
   "id": "e3fa3082",
   "metadata": {},
   "outputs": [],
   "source": [
    "customer_avg_check = f_sales \\\n",
    "    .join(d_customer, f_sales.sale_customer_id == d_customer.customer_id) \\\n",
    "    .groupBy(\n",
    "        \"customer_id\",\n",
    "    ) \\\n",
    "    .agg(\n",
    "        (sum(\"sale_total_price\") / count(\"sale_id\")).alias(\"avg_price\"),\n",
    "        avg(\"sale_quantity\").alias(\"avg_items_count\")\n",
    "    )"
   ]
  },
  {
   "cell_type": "code",
   "execution_count": 23,
   "id": "94ee4b61",
   "metadata": {},
   "outputs": [
    {
     "name": "stderr",
     "output_type": "stream",
     "text": [
      "25/05/25 19:10:21 WARN ClickHouseConnectionImpl: [JDBC Compliant Mode] Transaction is not supported. You may change jdbcCompliant to false to throw SQLException instead.\n",
      "25/05/25 19:10:21 WARN ClickHouseConnectionImpl: [JDBC Compliant Mode] Transaction is not supported. You may change jdbcCompliant to false to throw SQLException instead.\n",
      "25/05/25 19:10:21 WARN ClickHouseConnectionImpl: [JDBC Compliant Mode] Transaction [785ebecf-1612-4801-a2ec-dbb1011c1c55] (11 queries & 0 savepoints) is committed.\n",
      "25/05/25 19:10:21 WARN ClickHouseConnectionImpl: [JDBC Compliant Mode] Transaction [15badcde-10d1-4a53-ae56-29f7e61c9e8f] (0 queries & 0 savepoints) is committed.\n"
     ]
    },
    {
     "name": "stdout",
     "output_type": "stream",
     "text": [
      "+-----------+--------------------+---------------+\n",
      "|customer_id|           avg_price|avg_items_count|\n",
      "+-----------+--------------------+---------------+\n",
      "|         18|419.1000000000000...|            6.0|\n",
      "|         30|79.18000000000000...|           10.0|\n",
      "|         36|493.6100000000000...|            5.0|\n",
      "|         46|43.96000000000000...|            4.0|\n",
      "|         66|375.7400000000000...|            9.0|\n",
      "|         67|417.7300000000000...|            7.0|\n",
      "|         74|111.2400000000000...|            7.0|\n",
      "|         89|280.3700000000000...|            4.0|\n",
      "|         99|343.0800000000000...|            9.0|\n",
      "|        104|450.2500000000000...|            5.0|\n",
      "|        118|398.7000000000000...|            7.0|\n",
      "|        124|359.7000000000000...|            1.0|\n",
      "|        134|65.93000000000000...|            5.0|\n",
      "|        138|145.9100000000000...|            7.0|\n",
      "|        144|398.4400000000000...|            4.0|\n",
      "|        153|158.5100000000000...|            8.0|\n",
      "|        172|141.1500000000000...|            6.0|\n",
      "|        174|112.8100000000000...|            3.0|\n",
      "|        180|239.3600000000000...|            7.0|\n",
      "|        184|432.9800000000000...|            6.0|\n",
      "+-----------+--------------------+---------------+\n",
      "only showing top 20 rows\n"
     ]
    }
   ],
   "source": [
    "save_show(customer_avg_check, \"2_customeravgcheck\", \"customer_id\")"
   ]
  },
  {
   "cell_type": "markdown",
   "id": "f46d304f",
   "metadata": {},
   "source": [
    "## 3. Витрина продаж по времени"
   ]
  },
  {
   "cell_type": "markdown",
   "id": "5ee7a098",
   "metadata": {},
   "source": [
    "### Месячные и годовые тренды продаж + Сравнение выручки за разные периоды"
   ]
  },
  {
   "cell_type": "code",
   "execution_count": 24,
   "id": "54dc05ff",
   "metadata": {},
   "outputs": [],
   "source": [
    "sales_trends = f_sales \\\n",
    "    .withColumn(\"year\", year(\"sale_date\")) \\\n",
    "    .withColumn(\"month\", month(\"sale_date\")) \\\n",
    "    .groupBy(\"year\", \"month\") \\\n",
    "    .agg(\n",
    "        sum(\"sale_total_price\").alias(\"monthly_revenue\"),\n",
    "        count(\"sale_id\").alias(\"order_count\"),\n",
    "        sum(\"sale_quantity\").alias(\"total_items_sold\"),\n",
    "        (sum(\"sale_total_price\") / count(\"sale_id\")).alias(\"avg_order_value\"),\n",
    "        approx_count_distinct(\"sale_customer_id\").alias(\"unique_customers\")\n",
    "    ) \\\n",
    "    .orderBy(\"year\", \"month\")"
   ]
  },
  {
   "cell_type": "code",
   "execution_count": 25,
   "id": "a9cd950a",
   "metadata": {},
   "outputs": [
    {
     "name": "stderr",
     "output_type": "stream",
     "text": [
      "25/05/25 19:10:21 WARN SparkStringUtils: Truncated the string representation of a plan since it was too large. This behavior can be adjusted by setting 'spark.sql.debug.maxToStringFields'.\n",
      "25/05/25 19:10:22 WARN ClickHouseConnectionImpl: [JDBC Compliant Mode] Transaction is not supported. You may change jdbcCompliant to false to throw SQLException instead.\n",
      "25/05/25 19:10:22 WARN ClickHouseConnectionImpl: [JDBC Compliant Mode] Transaction is not supported. You may change jdbcCompliant to false to throw SQLException instead.\n",
      "25/05/25 19:10:22 WARN ClickHouseConnectionImpl: [JDBC Compliant Mode] Transaction [379eeebc-e29d-408a-870c-e03e04f885f7] (2 queries & 0 savepoints) is committed.\n",
      "25/05/25 19:10:22 WARN ClickHouseConnectionImpl: [JDBC Compliant Mode] Transaction [948d2972-4b64-4c52-b8b3-b7b5cde19080] (0 queries & 0 savepoints) is committed.\n"
     ]
    },
    {
     "name": "stdout",
     "output_type": "stream",
     "text": [
      "+----+-----+--------------------+-----------+----------------+--------------------+----------------+\n",
      "|year|month|     monthly_revenue|order_count|total_items_sold|     avg_order_value|unique_customers|\n",
      "+----+-----+--------------------+-----------+----------------+--------------------+----------------+\n",
      "|2010|    1|203842.2000000000...|        807|            4478|252.5925650557620...|             802|\n",
      "|2011|    1|197096.2200000000...|        775|            4171|254.3177032258064...|             811|\n",
      "|2012|    1|202942.4800000000...|        800|            4534|253.6781000000000...|             821|\n",
      "|2013|    1|199344.9800000000...|        788|            4257|252.9758629441624...|             765|\n",
      "|2014|    1|191980.7200000000...|        773|            4277|248.3579818887451...|             765|\n",
      "|2015|    1|197908.7900000000...|        760|            4043|260.4063026315789...|             734|\n",
      "|2016|    1|192888.2600000000...|        766|            4213|251.8123498694516...|             774|\n",
      "|2017|    1|194570.9800000000...|        767|            4212|253.6779400260756...|             774|\n",
      "|2018|    1|207965.9400000000...|        805|            4280|258.3427826086956...|             816|\n",
      "|2019|    1|177949.1500000000...|        721|            3928|246.8088072122052...|             671|\n",
      "|2020|    1|181969.5500000000...|        726|            3932|250.6467630853994...|             765|\n",
      "|2021|    1|196211.5500000000...|        786|            4316|249.6330152671755...|             756|\n",
      "|2022|    1|185181.3000000000...|        726|            3982|255.0706611570247...|             734|\n",
      "+----+-----+--------------------+-----------+----------------+--------------------+----------------+\n",
      "\n"
     ]
    }
   ],
   "source": [
    "save_show(sales_trends, \"3_salestrends\", \"year, month\")"
   ]
  },
  {
   "cell_type": "markdown",
   "id": "a50a2e8e",
   "metadata": {},
   "source": [
    "### Средний размер заказа по месяцам"
   ]
  },
  {
   "cell_type": "code",
   "execution_count": 26,
   "id": "2b09d9bc",
   "metadata": {},
   "outputs": [],
   "source": [
    "avg_order_size = f_sales \\\n",
    "    .withColumn(\"year_month\", date_format(\"sale_date\", \"yyyy-MM\")) \\\n",
    "    .groupBy(\"year_month\") \\\n",
    "    .agg(\n",
    "        avg(\"sale_quantity\").alias(\"avg_order_size\"),\n",
    "         avg(\"sale_total_price\").alias(\"avg_order_price\")\n",
    "    ) \\\n",
    "    .orderBy(\"year_month\")"
   ]
  },
  {
   "cell_type": "code",
   "execution_count": 27,
   "id": "695bc276",
   "metadata": {},
   "outputs": [
    {
     "name": "stdout",
     "output_type": "stream",
     "text": [
      "+----------+------------------+--------------------+\n",
      "|year_month|    avg_order_size|     avg_order_price|\n",
      "+----------+------------------+--------------------+\n",
      "|   2010-01| 5.548946716232962|252.5925650557620...|\n",
      "|   2011-01| 5.381935483870968|254.3177032258064...|\n",
      "|   2012-01|            5.6675|253.6781000000000...|\n",
      "|   2013-01| 5.402284263959391|252.9758629441624...|\n",
      "|   2014-01| 5.532988357050453|248.3579818887451...|\n",
      "|   2015-01|5.3197368421052635|260.4063026315789...|\n",
      "|   2016-01|               5.5|251.8123498694516...|\n",
      "|   2017-01| 5.491525423728813|253.6779400260756...|\n",
      "|   2018-01| 5.316770186335404|258.3427826086956...|\n",
      "|   2019-01| 5.447988904299584|246.8088072122052...|\n",
      "|   2020-01| 5.415977961432507|250.6467630853994...|\n",
      "|   2021-01|5.4910941475826975|249.6330152671755...|\n",
      "|   2022-01| 5.484848484848484|255.0706611570247...|\n",
      "+----------+------------------+--------------------+\n",
      "\n"
     ]
    },
    {
     "name": "stderr",
     "output_type": "stream",
     "text": [
      "25/05/25 19:10:23 WARN ClickHouseConnectionImpl: [JDBC Compliant Mode] Transaction is not supported. You may change jdbcCompliant to false to throw SQLException instead.\n",
      "25/05/25 19:10:23 WARN ClickHouseConnectionImpl: [JDBC Compliant Mode] Transaction is not supported. You may change jdbcCompliant to false to throw SQLException instead.\n",
      "25/05/25 19:10:23 WARN ClickHouseConnectionImpl: [JDBC Compliant Mode] Transaction [5936c5a7-5265-4317-871b-7a8c70722ddb] (2 queries & 0 savepoints) is committed.\n",
      "25/05/25 19:10:23 WARN ClickHouseConnectionImpl: [JDBC Compliant Mode] Transaction [150eb898-1aa6-48d6-ae8f-95165f05c93c] (0 queries & 0 savepoints) is committed.\n"
     ]
    }
   ],
   "source": [
    "save_show(avg_order_size, \"3_avgordersize\", \"year_month\")"
   ]
  },
  {
   "cell_type": "markdown",
   "id": "b61db5d9",
   "metadata": {},
   "source": [
    "## 4. Витрина продаж по магазинам"
   ]
  },
  {
   "cell_type": "markdown",
   "id": "5b72ffa0",
   "metadata": {},
   "source": [
    "### Топ-5 магазинов с наибольшей выручкой"
   ]
  },
  {
   "cell_type": "code",
   "execution_count": 28,
   "id": "951c19d2",
   "metadata": {},
   "outputs": [],
   "source": [
    "top_stores = f_sales \\\n",
    "    .join(d_store, f_sales.sale_store_id == d_store.store_id) \\\n",
    "    .groupBy(\n",
    "        \"store_id\"\n",
    "    ) \\\n",
    "    .agg(\n",
    "        sum(\"sale_total_price\").alias(\"total_revenue\")\n",
    "    ) \\\n",
    "    .orderBy(desc(\"total_revenue\")) \\\n",
    "    .limit(5)"
   ]
  },
  {
   "cell_type": "code",
   "execution_count": 29,
   "id": "80a3754f",
   "metadata": {},
   "outputs": [
    {
     "name": "stdout",
     "output_type": "stream",
     "text": [
      "+--------+--------------------+\n",
      "|store_id|       total_revenue|\n",
      "+--------+--------------------+\n",
      "|    2136|499.7600000000000...|\n",
      "|    3268|499.8000000000000...|\n",
      "|    4337|499.7600000000000...|\n",
      "|    4590|499.7300000000000...|\n",
      "|    6004|499.8500000000000...|\n",
      "+--------+--------------------+\n",
      "\n"
     ]
    },
    {
     "name": "stderr",
     "output_type": "stream",
     "text": [
      "25/05/25 19:10:23 WARN ClickHouseConnectionImpl: [JDBC Compliant Mode] Transaction is not supported. You may change jdbcCompliant to false to throw SQLException instead.\n",
      "25/05/25 19:10:23 WARN ClickHouseConnectionImpl: [JDBC Compliant Mode] Transaction is not supported. You may change jdbcCompliant to false to throw SQLException instead.\n",
      "25/05/25 19:10:23 WARN ClickHouseConnectionImpl: [JDBC Compliant Mode] Transaction [485f13bd-a4a3-4744-9236-2d4f94066350] (2 queries & 0 savepoints) is committed.\n",
      "25/05/25 19:10:23 WARN ClickHouseConnectionImpl: [JDBC Compliant Mode] Transaction [b59b302a-d99e-4288-9ea8-ce0d9ccf44c6] (0 queries & 0 savepoints) is committed.\n"
     ]
    }
   ],
   "source": [
    "save_show(top_stores, \"4_topstores\", \"store_id\")"
   ]
  },
  {
   "cell_type": "markdown",
   "id": "aa0f037f",
   "metadata": {},
   "source": [
    "### Распределение продаж по городам и странам"
   ]
  },
  {
   "cell_type": "code",
   "execution_count": 30,
   "id": "ae2f3db4",
   "metadata": {},
   "outputs": [],
   "source": [
    "sales_by_countries = f_sales \\\n",
    "    .join(d_customer, f_sales.sale_customer_id == d_customer.customer_id) \\\n",
    "    .groupBy(d_customer.customer_country) \\\n",
    "    .agg(\n",
    "        sum(\"sale_total_price\").alias(\"total_revenue\"),\n",
    "        sum(\"sale_quantity\").alias(\"total_items_sold\")\n",
    "    ) \\\n",
    "    .orderBy(desc(\"total_revenue\"))"
   ]
  },
  {
   "cell_type": "code",
   "execution_count": 31,
   "id": "dd0c00e5",
   "metadata": {},
   "outputs": [
    {
     "name": "stdout",
     "output_type": "stream",
     "text": [
      "+-------------------+--------------------+----------------+\n",
      "|   customer_country|       total_revenue|total_items_sold|\n",
      "+-------------------+--------------------+----------------+\n",
      "|        Afghanistan|8532.720000000000...|             171|\n",
      "|      Aland Islands|571.4600000000000...|               7|\n",
      "|            Albania|11821.24000000000...|             227|\n",
      "|     American Samoa|385.7500000000000...|              22|\n",
      "|            Andorra|579.8500000000000...|              15|\n",
      "|             Angola|1914.940000000000...|              30|\n",
      "|Antigua and Barbuda|775.3700000000000...|              19|\n",
      "|          Argentina|26739.31000000000...|             614|\n",
      "|            Armenia|8847.560000000000...|             185|\n",
      "|          Australia|726.0700000000000...|              19|\n",
      "|            Austria|1441.180000000000...|              39|\n",
      "|         Azerbaijan|5853.520000000000...|             126|\n",
      "|            Bahamas|1658.530000000000...|              26|\n",
      "|            Bahrain|596.4100000000000...|              23|\n",
      "|         Bangladesh|4738.170000000000...|              74|\n",
      "|           Barbados|37.32000000000000...|               4|\n",
      "|            Belarus|8266.770000000000...|             162|\n",
      "|            Belgium|1283.790000000000...|              29|\n",
      "|             Belize|476.5100000000000...|               8|\n",
      "|              Benin|900.5400000000000...|              24|\n",
      "+-------------------+--------------------+----------------+\n",
      "only showing top 20 rows\n"
     ]
    },
    {
     "name": "stderr",
     "output_type": "stream",
     "text": [
      "25/05/25 19:10:24 WARN ClickHouseConnectionImpl: [JDBC Compliant Mode] Transaction is not supported. You may change jdbcCompliant to false to throw SQLException instead.\n",
      "25/05/25 19:10:24 WARN ClickHouseConnectionImpl: [JDBC Compliant Mode] Transaction is not supported. You may change jdbcCompliant to false to throw SQLException instead.\n",
      "25/05/25 19:10:24 WARN ClickHouseConnectionImpl: [JDBC Compliant Mode] Transaction [775d894b-20f2-423e-ad31-621a5773d550] (2 queries & 0 savepoints) is committed.\n",
      "25/05/25 19:10:24 WARN ClickHouseConnectionImpl: [JDBC Compliant Mode] Transaction [5977c8ad-0cfa-473f-85be-49d945fc1754] (0 queries & 0 savepoints) is committed.\n"
     ]
    }
   ],
   "source": [
    "save_show(sales_by_countries, \"4_salesbycountries\", \"customer_country\")"
   ]
  },
  {
   "cell_type": "markdown",
   "id": "7a4ca066",
   "metadata": {},
   "source": [
    "### Средний чек для каждого магазина"
   ]
  },
  {
   "cell_type": "code",
   "execution_count": 32,
   "id": "113a22c3",
   "metadata": {},
   "outputs": [],
   "source": [
    "avg_store_check = f_sales \\\n",
    "    .join(d_store, f_sales.sale_store_id == d_store.store_id) \\\n",
    "    .groupBy(\"store_id\") \\\n",
    "    .agg(\n",
    "        avg(\"sale_total_price\").alias(\"avg_check_price\"),\n",
    "        avg(\"sale_quantity\").alias(\"avg_items_sold\")\n",
    "    )"
   ]
  },
  {
   "cell_type": "code",
   "execution_count": 33,
   "id": "3e485fe7",
   "metadata": {},
   "outputs": [
    {
     "name": "stderr",
     "output_type": "stream",
     "text": [
      "25/05/25 19:10:25 WARN ClickHouseConnectionImpl: [JDBC Compliant Mode] Transaction is not supported. You may change jdbcCompliant to false to throw SQLException instead.\n",
      "25/05/25 19:10:25 WARN ClickHouseConnectionImpl: [JDBC Compliant Mode] Transaction is not supported. You may change jdbcCompliant to false to throw SQLException instead.\n",
      "25/05/25 19:10:25 WARN ClickHouseConnectionImpl: [JDBC Compliant Mode] Transaction [e2c9ec4c-920c-476b-b16e-1c2818578311] (11 queries & 0 savepoints) is committed.\n",
      "25/05/25 19:10:25 WARN ClickHouseConnectionImpl: [JDBC Compliant Mode] Transaction [8a658e2a-2af8-41e4-8721-26b607357d9f] (0 queries & 0 savepoints) is committed.\n"
     ]
    },
    {
     "name": "stdout",
     "output_type": "stream",
     "text": [
      "+--------+--------------------+--------------+\n",
      "|store_id|     avg_check_price|avg_items_sold|\n",
      "+--------+--------------------+--------------+\n",
      "|       2|99.28000000000000...|           1.0|\n",
      "|      11|388.1500000000000...|           9.0|\n",
      "|      14|108.2800000000000...|           4.0|\n",
      "|      33|90.46000000000000...|           4.0|\n",
      "|      42|396.0100000000000...|           8.0|\n",
      "|      58|233.1300000000000...|           6.0|\n",
      "|      68|19.98000000000000...|           6.0|\n",
      "|      71|100.0600000000000...|           9.0|\n",
      "|      79|49.17000000000000...|           9.0|\n",
      "|      83|123.4800000000000...|          10.0|\n",
      "|     105|101.2900000000000...|           8.0|\n",
      "|     106|459.9200000000000...|           5.0|\n",
      "|     110|16.67000000000000...|           6.0|\n",
      "|     116|323.1000000000000...|           6.0|\n",
      "|     118|188.5900000000000...|           7.0|\n",
      "|     119|138.4600000000000...|           5.0|\n",
      "|     123|236.8500000000000...|           5.0|\n",
      "|     131|359.3800000000000...|          10.0|\n",
      "|     135|233.6600000000000...|           9.0|\n",
      "|     147|236.4000000000000...|           6.0|\n",
      "+--------+--------------------+--------------+\n",
      "only showing top 20 rows\n"
     ]
    }
   ],
   "source": [
    "save_show(avg_store_check, \"4_avgstorecheck\", \"store_id\")"
   ]
  },
  {
   "cell_type": "markdown",
   "id": "28ef5541",
   "metadata": {},
   "source": [
    "## 5. Витрина продаж по поставщикам"
   ]
  },
  {
   "cell_type": "markdown",
   "id": "19285730",
   "metadata": {},
   "source": [
    "### Топ-5 поставщиков с наибольшей выручкой"
   ]
  },
  {
   "cell_type": "code",
   "execution_count": 34,
   "id": "3ba7f3f3",
   "metadata": {},
   "outputs": [],
   "source": [
    "supplier_revenue = f_sales \\\n",
    "    .join(d_product, f_sales.sale_product_id == d_product.product_id) \\\n",
    "    .join(d_supplier, d_product.supplier_id == d_supplier.supplier_id) \\\n",
    "    .groupBy(\n",
    "        d_supplier.supplier_id\n",
    "    ) \\\n",
    "    .agg(\n",
    "        sum(\"sale_total_price\").alias(\"total_revenue\")\n",
    "    ) \\\n",
    "    .orderBy(desc(\"total_revenue\")) \\\n",
    "    .limit(5)"
   ]
  },
  {
   "cell_type": "code",
   "execution_count": 35,
   "id": "dd8f8240",
   "metadata": {},
   "outputs": [
    {
     "name": "stdout",
     "output_type": "stream",
     "text": [
      "+-----------+--------------------+\n",
      "|supplier_id|       total_revenue|\n",
      "+-----------+--------------------+\n",
      "|        718|499.7600000000000...|\n",
      "|        796|499.7600000000000...|\n",
      "|       1577|499.8000000000000...|\n",
      "|       5598|499.7300000000000...|\n",
      "|       6266|499.8500000000000...|\n",
      "+-----------+--------------------+\n",
      "\n"
     ]
    },
    {
     "name": "stderr",
     "output_type": "stream",
     "text": [
      "25/05/25 19:10:26 WARN ClickHouseConnectionImpl: [JDBC Compliant Mode] Transaction is not supported. You may change jdbcCompliant to false to throw SQLException instead.\n",
      "25/05/25 19:10:26 WARN ClickHouseConnectionImpl: [JDBC Compliant Mode] Transaction is not supported. You may change jdbcCompliant to false to throw SQLException instead.\n",
      "25/05/25 19:10:26 WARN ClickHouseConnectionImpl: [JDBC Compliant Mode] Transaction [646f8876-302c-4b05-986a-f48580127c8b] (2 queries & 0 savepoints) is committed.\n",
      "25/05/25 19:10:26 WARN ClickHouseConnectionImpl: [JDBC Compliant Mode] Transaction [5a1dc35c-1f89-4e75-a7b6-c23473b4e44c] (0 queries & 0 savepoints) is committed.\n"
     ]
    }
   ],
   "source": [
    "save_show(supplier_revenue, \"5_top5suppliers\", \"supplier_id\")"
   ]
  },
  {
   "cell_type": "markdown",
   "id": "b2f980dd",
   "metadata": {},
   "source": [
    "### Средняя цена товаров от каждого поставщика"
   ]
  },
  {
   "cell_type": "code",
   "execution_count": 36,
   "id": "72832229",
   "metadata": {},
   "outputs": [],
   "source": [
    "supplier_avg_prices = d_product \\\n",
    "    .join(d_supplier, d_product.supplier_id == d_supplier.supplier_id) \\\n",
    "    .groupBy(\n",
    "        d_supplier.supplier_id\n",
    "    ) \\\n",
    "    .agg(\n",
    "        avg(\"product_price\").alias(\"avg_product_price\")\n",
    "    ) \\\n",
    "    .orderBy(desc(\"avg_product_price\"))"
   ]
  },
  {
   "cell_type": "code",
   "execution_count": 37,
   "id": "b0d20742",
   "metadata": {},
   "outputs": [
    {
     "name": "stderr",
     "output_type": "stream",
     "text": [
      "25/05/25 19:10:27 WARN ClickHouseConnectionImpl: [JDBC Compliant Mode] Transaction is not supported. You may change jdbcCompliant to false to throw SQLException instead.\n",
      "25/05/25 19:10:27 WARN ClickHouseConnectionImpl: [JDBC Compliant Mode] Transaction is not supported. You may change jdbcCompliant to false to throw SQLException instead.\n",
      "25/05/25 19:10:27 WARN ClickHouseConnectionImpl: [JDBC Compliant Mode] Transaction [3f8ad18c-cffd-47c2-aa72-19fe0b61b127] (11 queries & 0 savepoints) is committed.\n",
      "25/05/25 19:10:27 WARN ClickHouseConnectionImpl: [JDBC Compliant Mode] Transaction [6f0f7fdb-b395-4883-8e91-ffec67f5bec5] (0 queries & 0 savepoints) is committed.\n"
     ]
    },
    {
     "name": "stdout",
     "output_type": "stream",
     "text": [
      "+-----------+--------------------+\n",
      "|supplier_id|   avg_product_price|\n",
      "+-----------+--------------------+\n",
      "|         10|16.56000000000000...|\n",
      "|         15|12.16000000000000...|\n",
      "|         16|16.64000000000000...|\n",
      "|         23|18.78000000000000...|\n",
      "|         32|12.82000000000000...|\n",
      "|         49|11.77000000000000...|\n",
      "|         50|13.92000000000000...|\n",
      "|         58|19.56000000000000...|\n",
      "|         69|13.45000000000000...|\n",
      "|         91|14.50000000000000...|\n",
      "|         93|21.11000000000000...|\n",
      "|         97|13.33000000000000...|\n",
      "|        111|17.87000000000000...|\n",
      "|        120|20.77000000000000...|\n",
      "|        122|16.32000000000000...|\n",
      "|        139|16.43000000000000...|\n",
      "|        143|12.75000000000000...|\n",
      "|        144|13.52000000000000...|\n",
      "|        157|15.34000000000000...|\n",
      "|        162|13.62000000000000...|\n",
      "+-----------+--------------------+\n",
      "only showing top 20 rows\n"
     ]
    }
   ],
   "source": [
    "save_show(supplier_avg_prices, \"5_avgsupplierprice\", \"supplier_id\")"
   ]
  },
  {
   "cell_type": "markdown",
   "id": "66d897d9",
   "metadata": {},
   "source": [
    "### Распределение продаж по странам поставщиков"
   ]
  },
  {
   "cell_type": "code",
   "execution_count": 38,
   "id": "f5eb0c93",
   "metadata": {},
   "outputs": [],
   "source": [
    "sales_by_supplier_country = f_sales \\\n",
    "    .join(d_product, f_sales.sale_product_id == d_product.product_id) \\\n",
    "    .join(d_supplier, d_product.supplier_id == d_supplier.supplier_id) \\\n",
    "    .groupBy(\"supplier_country\") \\\n",
    "    .agg(\n",
    "        sum(\"sale_total_price\").alias(\"total_revenue\"),\n",
    "        count(\"sale_id\").alias(\"order_count\"),\n",
    "        sum(\"sale_quantity\").alias(\"total_items_sold\")\n",
    "    )"
   ]
  },
  {
   "cell_type": "code",
   "execution_count": 39,
   "id": "9624695b",
   "metadata": {},
   "outputs": [
    {
     "name": "stderr",
     "output_type": "stream",
     "text": [
      "25/05/25 19:10:28 WARN ClickHouseConnectionImpl: [JDBC Compliant Mode] Transaction is not supported. You may change jdbcCompliant to false to throw SQLException instead.\n",
      "25/05/25 19:10:28 WARN ClickHouseConnectionImpl: [JDBC Compliant Mode] Transaction is not supported. You may change jdbcCompliant to false to throw SQLException instead.\n",
      "25/05/25 19:10:28 WARN ClickHouseConnectionImpl: [JDBC Compliant Mode] Transaction [d92c474c-f7c0-4c09-b175-aad0ac93eb25] (2 queries & 0 savepoints) is committed.\n",
      "25/05/25 19:10:28 WARN ClickHouseConnectionImpl: [JDBC Compliant Mode] Transaction [63788394-8c83-4145-8f72-2ffb9feb0ea4] (0 queries & 0 savepoints) is committed.\n"
     ]
    },
    {
     "name": "stdout",
     "output_type": "stream",
     "text": [
      "+-------------------+--------------------+-----------+----------------+\n",
      "|   supplier_country|       total_revenue|order_count|total_items_sold|\n",
      "+-------------------+--------------------+-----------+----------------+\n",
      "|        Afghanistan|9068.100000000000...|         41|             201|\n",
      "|            Albania|11172.62000000000...|         46|             250|\n",
      "|            Algeria|230.2500000000000...|          1|               8|\n",
      "|     American Samoa|185.1000000000000...|          2|              11|\n",
      "|            Andorra|344.8200000000000...|          2|               9|\n",
      "|             Angola|1951.180000000000...|         11|              57|\n",
      "|Antigua and Barbuda|835.6400000000000...|          4|              19|\n",
      "|          Argentina|35606.32000000000...|        131|             691|\n",
      "|            Armenia|7467.310000000000...|         29|             189|\n",
      "|              Aruba|90.49000000000000...|          1|               1|\n",
      "|          Australia|2946.940000000000...|         13|              65|\n",
      "|            Austria|1650.100000000000...|          6|              31|\n",
      "|         Azerbaijan|6263.130000000000...|         32|             175|\n",
      "|            Bahamas|1311.610000000000...|          6|              41|\n",
      "|            Bahrain|852.4200000000000...|          3|              18|\n",
      "|         Bangladesh|5848.220000000000...|         25|             156|\n",
      "|           Barbados|434.1000000000000...|          1|              10|\n",
      "|            Belarus|9483.510000000000...|         33|             166|\n",
      "|            Belgium|298.8500000000000...|          2|              13|\n",
      "|             Belize|1068.470000000000...|          5|              25|\n",
      "+-------------------+--------------------+-----------+----------------+\n",
      "only showing top 20 rows\n"
     ]
    }
   ],
   "source": [
    "save_show(sales_by_supplier_country, \"5_salesbysuppliercountry\", \"supplier_country\")"
   ]
  },
  {
   "cell_type": "markdown",
   "id": "33862a57",
   "metadata": {},
   "source": [
    "## 6. Качество продукции"
   ]
  },
  {
   "cell_type": "markdown",
   "id": "7ad4eeaf",
   "metadata": {},
   "source": [
    "### Продукты с наивысшим и наименьшим рейтингом"
   ]
  },
  {
   "cell_type": "code",
   "execution_count": 40,
   "id": "3ee201ee",
   "metadata": {},
   "outputs": [],
   "source": [
    "rated_products = d_product \\\n",
    "    .select(\n",
    "        \"product_id\",\n",
    "        \"product_rating\"\n",
    "    )"
   ]
  },
  {
   "cell_type": "code",
   "execution_count": 41,
   "id": "33ca4a15",
   "metadata": {},
   "outputs": [
    {
     "name": "stderr",
     "output_type": "stream",
     "text": [
      "25/05/25 19:10:28 WARN ClickHouseConnectionImpl: [JDBC Compliant Mode] Transaction is not supported. You may change jdbcCompliant to false to throw SQLException instead.\n",
      "25/05/25 19:10:28 WARN ClickHouseConnectionImpl: [JDBC Compliant Mode] Transaction is not supported. You may change jdbcCompliant to false to throw SQLException instead.\n",
      "25/05/25 19:10:28 WARN ClickHouseConnectionImpl: [JDBC Compliant Mode] Transaction [3d674a21-182b-478c-ae83-cbaa11b63280] (11 queries & 0 savepoints) is committed.\n",
      "25/05/25 19:10:28 WARN ClickHouseConnectionImpl: [JDBC Compliant Mode] Transaction [3093e3cf-e752-4527-99f0-11d11dab2a42] (0 queries & 0 savepoints) is committed.\n"
     ]
    },
    {
     "name": "stdout",
     "output_type": "stream",
     "text": [
      "+----------+--------------------+\n",
      "|product_id|      product_rating|\n",
      "+----------+--------------------+\n",
      "|      7664|1.100000000000000000|\n",
      "|      7728|3.300000000000000000|\n",
      "|      7730|2.700000000000000000|\n",
      "|      7731|1.800000000000000000|\n",
      "|      7733|2.600000000000000000|\n",
      "|      7735|1.600000000000000000|\n",
      "|      7736|1.200000000000000000|\n",
      "|      7738|2.000000000000000000|\n",
      "|      7740|1.000000000000000000|\n",
      "|      7742|1.300000000000000000|\n",
      "|      7744|3.900000000000000000|\n",
      "|      7746|2.100000000000000000|\n",
      "|      7748|3.500000000000000000|\n",
      "|      7750|2.200000000000000000|\n",
      "|      7752|4.800000000000000000|\n",
      "|      7754|1.000000000000000000|\n",
      "|      7756|3.800000000000000000|\n",
      "|      7758|3.700000000000000000|\n",
      "|      7760|4.600000000000000000|\n",
      "|      7762|4.300000000000000000|\n",
      "+----------+--------------------+\n",
      "only showing top 20 rows\n"
     ]
    }
   ],
   "source": [
    "save_show(rated_products, \"6_productrating_asc\", \"product_id\")\n",
    "# Можно сортировать при выводе\n"
   ]
  },
  {
   "cell_type": "markdown",
   "id": "6522aa21",
   "metadata": {},
   "source": [
    "### Корреляция между рейтингом и объемом продаж"
   ]
  },
  {
   "cell_type": "code",
   "execution_count": 42,
   "id": "e46f81e2",
   "metadata": {},
   "outputs": [],
   "source": [
    "rating_sales_correlation = d_product \\\n",
    "    .join(\n",
    "        f_sales.groupBy(\"sale_product_id\")\n",
    "            .agg(\n",
    "                sum(\"sale_quantity\").alias(\"total_quantity_sold\"),\n",
    "                sum(\"sale_total_price\").alias(\"total_revenue\"),\n",
    "                count(\"sale_id\").alias(\"order_count\")\n",
    "            ),\n",
    "        d_product.product_id == f_sales.sale_product_id\n",
    "    ) \\\n",
    "    .select(\n",
    "        \"product_id\",\n",
    "        \"product_rating\",\n",
    "        \"total_quantity_sold\",\n",
    "        \"total_revenue\",\n",
    "        \"order_count\"\n",
    "    )"
   ]
  },
  {
   "cell_type": "code",
   "execution_count": 43,
   "id": "f37801fd",
   "metadata": {},
   "outputs": [
    {
     "name": "stderr",
     "output_type": "stream",
     "text": [
      "25/05/25 19:10:29 WARN ClickHouseConnectionImpl: [JDBC Compliant Mode] Transaction is not supported. You may change jdbcCompliant to false to throw SQLException instead.\n",
      "25/05/25 19:10:29 WARN ClickHouseConnectionImpl: [JDBC Compliant Mode] Transaction is not supported. You may change jdbcCompliant to false to throw SQLException instead.\n",
      "25/05/25 19:10:29 WARN ClickHouseConnectionImpl: [JDBC Compliant Mode] Transaction [c2886f31-16dc-4ee3-ab61-6f6bec10a599] (11 queries & 0 savepoints) is committed.\n",
      "25/05/25 19:10:29 WARN ClickHouseConnectionImpl: [JDBC Compliant Mode] Transaction [ceab4aa8-b7a1-41e9-9f8c-0fb0ebe182c3] (0 queries & 0 savepoints) is committed.\n"
     ]
    },
    {
     "name": "stdout",
     "output_type": "stream",
     "text": [
      "+----------+--------------------+-------------------+--------------------+-----------+\n",
      "|product_id|      product_rating|total_quantity_sold|       total_revenue|order_count|\n",
      "+----------+--------------------+-------------------+--------------------+-----------+\n",
      "|        10|4.400000000000000000|                  4|479.3100000000000...|          1|\n",
      "|        24|3.500000000000000000|                  9|380.8400000000000...|          1|\n",
      "|        25|1.100000000000000000|                  6|225.2600000000000...|          1|\n",
      "|        38|3.600000000000000000|                 10|87.81000000000000...|          1|\n",
      "|        45|3.100000000000000000|                  2|390.8300000000000...|          1|\n",
      "|        50|2.700000000000000000|                  3|262.7200000000000...|          1|\n",
      "|        62|4.300000000000000000|                  5|350.2600000000000...|          1|\n",
      "|        63|2.900000000000000000|                  9|391.4400000000000...|          1|\n",
      "|        70|2.900000000000000000|                  1|198.6100000000000...|          1|\n",
      "|        73|2.500000000000000000|                 10|17.70000000000000...|          1|\n",
      "|        77|4.400000000000000000|                  8|228.8000000000000...|          1|\n",
      "|        80|4.700000000000000000|                  4|385.0800000000000...|          1|\n",
      "|        82|2.600000000000000000|                  5|73.88000000000000...|          1|\n",
      "|       102|4.100000000000000000|                  3|85.26000000000000...|          1|\n",
      "|       113|4.600000000000000000|                  9|16.26000000000000...|          1|\n",
      "|       121|3.000000000000000000|                  1|324.5800000000000...|          1|\n",
      "|       125|2.300000000000000000|                  6|327.6000000000000...|          1|\n",
      "|       156|2.800000000000000000|                  1|43.25000000000000...|          1|\n",
      "|       160|3.200000000000000000|                  4|41.78000000000000...|          1|\n",
      "|       167|2.200000000000000000|                 10|425.6800000000000...|          1|\n",
      "+----------+--------------------+-------------------+--------------------+-----------+\n",
      "only showing top 20 rows\n"
     ]
    }
   ],
   "source": [
    "save_show(rating_sales_correlation, \"6_ratingsalescorrelation\", \"product_id\")"
   ]
  },
  {
   "cell_type": "markdown",
   "id": "7737aeb7",
   "metadata": {},
   "source": [
    "### Продукты с наибольшим количеством отзывов"
   ]
  },
  {
   "cell_type": "code",
   "execution_count": 44,
   "id": "b9c97f65",
   "metadata": {},
   "outputs": [],
   "source": [
    "most_reviewed_products = d_product \\\n",
    "    .select(\n",
    "        \"product_id\",\n",
    "        \"product_reviews\"\n",
    "    )"
   ]
  },
  {
   "cell_type": "code",
   "execution_count": 45,
   "id": "7f6ed7f3",
   "metadata": {},
   "outputs": [
    {
     "name": "stderr",
     "output_type": "stream",
     "text": [
      "25/05/25 19:10:29 WARN ClickHouseConnectionImpl: [JDBC Compliant Mode] Transaction is not supported. You may change jdbcCompliant to false to throw SQLException instead.\n",
      "25/05/25 19:10:29 WARN ClickHouseConnectionImpl: [JDBC Compliant Mode] Transaction is not supported. You may change jdbcCompliant to false to throw SQLException instead.\n",
      "25/05/25 19:10:29 WARN ClickHouseConnectionImpl: [JDBC Compliant Mode] Transaction [c70f8ddd-1610-4034-9738-6c2cb140cd86] (11 queries & 0 savepoints) is committed.\n",
      "25/05/25 19:10:29 WARN ClickHouseConnectionImpl: [JDBC Compliant Mode] Transaction [e959d753-d9e8-4f43-9a77-5cfed8af8fb8] (0 queries & 0 savepoints) is committed.\n"
     ]
    },
    {
     "name": "stdout",
     "output_type": "stream",
     "text": [
      "+----------+---------------+\n",
      "|product_id|product_reviews|\n",
      "+----------+---------------+\n",
      "|         1|             19|\n",
      "|         2|            721|\n",
      "|         3|            616|\n",
      "|         4|            532|\n",
      "|         5|             36|\n",
      "|         6|            182|\n",
      "|         7|            499|\n",
      "|         8|            969|\n",
      "|         9|            445|\n",
      "|        10|            824|\n",
      "|        11|            124|\n",
      "|        12|            209|\n",
      "|        13|            125|\n",
      "|        14|            712|\n",
      "|        15|             77|\n",
      "|        16|            514|\n",
      "|        17|            306|\n",
      "|        18|            174|\n",
      "|        19|            204|\n",
      "|        20|            400|\n",
      "+----------+---------------+\n",
      "only showing top 20 rows\n"
     ]
    }
   ],
   "source": [
    "save_show(most_reviewed_products, \"6_productreviewcount\", \"product_id\")"
   ]
  },
  {
   "cell_type": "markdown",
   "id": "403e78e6",
   "metadata": {},
   "source": [
    "# Закрытие сессии"
   ]
  },
  {
   "cell_type": "code",
   "execution_count": 47,
   "id": "f081daaf",
   "metadata": {},
   "outputs": [],
   "source": [
    "spark.stop()"
   ]
  }
 ],
 "metadata": {
  "kernelspec": {
   "display_name": "Python 3",
   "language": "python",
   "name": "python3"
  },
  "language_info": {
   "codemirror_mode": {
    "name": "ipython",
    "version": 3
   },
   "file_extension": ".py",
   "mimetype": "text/x-python",
   "name": "python",
   "nbconvert_exporter": "python",
   "pygments_lexer": "ipython3",
   "version": "3.10.11"
  }
 },
 "nbformat": 4,
 "nbformat_minor": 5
}
