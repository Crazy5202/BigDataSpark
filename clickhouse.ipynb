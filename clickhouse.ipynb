{
 "cells": [
  {
   "cell_type": "markdown",
   "id": "c05cb693",
   "metadata": {},
   "source": [
    "# Общая настройка"
   ]
  },
  {
   "cell_type": "code",
   "execution_count": 1,
   "id": "ac4d1ef6",
   "metadata": {},
   "outputs": [],
   "source": [
    "import os\n",
    "os.environ['PYSPARK_SUBMIT_ARGS'] = '--jars ./jars/postgresql-42.6.0.jar,./jars/clickhouse-jdbc-0.4.6.jar pyspark-shell'"
   ]
  },
  {
   "cell_type": "code",
   "execution_count": 2,
   "id": "b9469eda",
   "metadata": {},
   "outputs": [],
   "source": [
    "USER = os.getenv(\"USER\")\n",
    "PASSWORD = os.getenv(\"PASSWORD\")\n",
    "HOST = os.getenv(\"HOST\")\n",
    "\n",
    "PG_NAME = os.getenv(\"POSTGRES_DB\")\n",
    "PG_PORT = os.getenv(\"POSTGRES_PORT\")\n",
    "\n",
    "CH_NAME = os.getenv(\"CLICKHOUSE_DB\")\n",
    "CH_PORT = os.getenv(\"CLICKHOUSE_PORT\")"
   ]
  },
  {
   "cell_type": "markdown",
   "id": "587d063b",
   "metadata": {},
   "source": [
    "# Настройка подключения pyspark"
   ]
  },
  {
   "cell_type": "code",
   "execution_count": 3,
   "id": "414dbc85",
   "metadata": {},
   "outputs": [
    {
     "name": "stderr",
     "output_type": "stream",
     "text": [
      "WARNING: Using incubator modules: jdk.incubator.vector\n",
      "25/05/24 23:42:32 WARN NativeCodeLoader: Unable to load native-hadoop library for your platform... using builtin-java classes where applicable\n",
      "Using Spark's default log4j profile: org/apache/spark/log4j2-defaults.properties\n",
      "Setting default log level to \"WARN\".\n",
      "To adjust logging level use sc.setLogLevel(newLevel). For SparkR, use setLogLevel(newLevel).\n"
     ]
    }
   ],
   "source": [
    "from pyspark.sql import SparkSession\n",
    "\n",
    "spark = SparkSession.builder \\\n",
    "    .appName(\"Spark SQL with PostgreSQL\") \\\n",
    "    .getOrCreate()"
   ]
  },
  {
   "cell_type": "code",
   "execution_count": 4,
   "id": "084be06c",
   "metadata": {},
   "outputs": [],
   "source": [
    "pg_jdbc_url = f\"jdbc:postgresql://{HOST}:{PG_PORT}/{PG_NAME}\"\n",
    "pg_properties = {\n",
    "    \"user\": USER,\n",
    "    \"password\": PASSWORD,\n",
    "    \"driver\": \"org.postgresql.Driver\"\n",
    "}"
   ]
  },
  {
   "cell_type": "code",
   "execution_count": 5,
   "id": "15ae4da7",
   "metadata": {},
   "outputs": [],
   "source": [
    "ch_jdbc_url = f\"jdbc:clickhouse://{HOST}:{CH_PORT}/{CH_NAME}\"\n",
    "ch_properties = {\n",
    "    \"user\": USER,\n",
    "    \"password\": PASSWORD,\n",
    "    \"driver\": \"com.clickhouse.jdbc.ClickHouseDriver\"\n",
    "}"
   ]
  },
  {
   "cell_type": "markdown",
   "id": "a90aab7b",
   "metadata": {},
   "source": [
    "# Витрины"
   ]
  },
  {
   "cell_type": "code",
   "execution_count": 6,
   "id": "6b7a5ad8",
   "metadata": {},
   "outputs": [],
   "source": [
    "from pyspark.sql.functions import *"
   ]
  },
  {
   "cell_type": "code",
   "execution_count": 7,
   "id": "b3a933f4",
   "metadata": {},
   "outputs": [],
   "source": [
    "def load_table(table_name):\n",
    "    return spark.read.jdbc(url=pg_jdbc_url, table=table_name, properties=pg_properties)"
   ]
  },
  {
   "cell_type": "code",
   "execution_count": 8,
   "id": "ee0de4ed",
   "metadata": {},
   "outputs": [],
   "source": [
    "d_customer = load_table(\"d_customer\")\n",
    "d_product = load_table(\"d_product\")\n",
    "d_seller = load_table(\"d_seller\")\n",
    "d_store = load_table(\"d_store\")\n",
    "d_sipplier = load_table(\"d_supplier\")\n",
    "\n",
    "f_sales = load_table(\"f_sales\")"
   ]
  },
  {
   "cell_type": "code",
   "execution_count": 12,
   "id": "9784981a",
   "metadata": {},
   "outputs": [],
   "source": [
    "def save_report(df, name: str):\n",
    "    df.write \\\n",
    "    .mode(\"overwrite\") \\\n",
    "    .option(\"createTableOptions\", \"\"\"\n",
    "        ENGINE = MergeTree()\n",
    "        ORDER BY (product_id)\n",
    "    \"\"\") \\\n",
    "    .jdbc(url=ch_jdbc_url, table=name, properties=ch_properties)"
   ]
  },
  {
   "cell_type": "markdown",
   "id": "13fc88ec",
   "metadata": {},
   "source": [
    "## Продажи по продуктам"
   ]
  },
  {
   "cell_type": "markdown",
   "id": "cbb95317",
   "metadata": {},
   "source": [
    "### Топ-10 продуктов"
   ]
  },
  {
   "cell_type": "code",
   "execution_count": 10,
   "id": "b631d995",
   "metadata": {},
   "outputs": [],
   "source": [
    "top_products = f_sales \\\n",
    "    .join(d_product, f_sales.sale_product_id == d_product.product_id) \\\n",
    "    .groupBy(\n",
    "        d_product.product_id,\n",
    "        d_product.product_name,\n",
    "        d_product.product_category,\n",
    "        d_product.pet_category,\n",
    "        d_product.product_brand\n",
    "    ) \\\n",
    "    .agg(\n",
    "        sum(\"sale_quantity\").alias(\"total_quantity_sold\"),\n",
    "        sum(\"sale_total_price\").alias(\"total_revenue\")\n",
    "    ) \\\n",
    "    .orderBy(desc(\"total_revenue\")) \\\n",
    "    .limit(10)"
   ]
  },
  {
   "cell_type": "code",
   "execution_count": null,
   "id": "6370be77",
   "metadata": {},
   "outputs": [
    {
     "name": "stderr",
     "output_type": "stream",
     "text": [
      "25/05/24 23:44:15 WARN ClickHouseConnectionImpl: [JDBC Compliant Mode] Transaction is not supported. You may change jdbcCompliant to false to throw SQLException instead.\n",
      "25/05/24 23:44:15 WARN ClickHouseConnectionImpl: [JDBC Compliant Mode] Transaction is not supported. You may change jdbcCompliant to false to throw SQLException instead.\n",
      "25/05/24 23:44:15 WARN ClickHouseConnectionImpl: [JDBC Compliant Mode] Transaction [ba38abcc-4b1f-4489-9ccd-c975120fc051] (2 queries & 0 savepoints) is committed.\n",
      "25/05/24 23:44:15 WARN ClickHouseConnectionImpl: [JDBC Compliant Mode] Transaction [2c0f3e32-7239-4463-89be-ec632f5b9573] (0 queries & 0 savepoints) is committed.\n"
     ]
    }
   ],
   "source": [
    "save_report(top_products, \"1_top10products\")"
   ]
  },
  {
   "cell_type": "markdown",
   "id": "602a0a07",
   "metadata": {},
   "source": [
    "## Продажи по клиентам"
   ]
  },
  {
   "cell_type": "code",
   "execution_count": null,
   "id": "77923d16",
   "metadata": {},
   "outputs": [],
   "source": []
  },
  {
   "cell_type": "markdown",
   "id": "f46d304f",
   "metadata": {},
   "source": [
    "## Продажи по времени"
   ]
  },
  {
   "cell_type": "code",
   "execution_count": null,
   "id": "54dc05ff",
   "metadata": {},
   "outputs": [],
   "source": []
  },
  {
   "cell_type": "markdown",
   "id": "b61db5d9",
   "metadata": {},
   "source": [
    "## Продажи по магазинам"
   ]
  },
  {
   "cell_type": "code",
   "execution_count": null,
   "id": "951c19d2",
   "metadata": {},
   "outputs": [],
   "source": []
  },
  {
   "cell_type": "markdown",
   "id": "28ef5541",
   "metadata": {},
   "source": [
    "## Продажи по поставщикам"
   ]
  },
  {
   "cell_type": "code",
   "execution_count": null,
   "id": "3ba7f3f3",
   "metadata": {},
   "outputs": [],
   "source": []
  },
  {
   "cell_type": "markdown",
   "id": "33862a57",
   "metadata": {},
   "source": [
    "## Качество продукции"
   ]
  },
  {
   "cell_type": "code",
   "execution_count": null,
   "id": "3ee201ee",
   "metadata": {},
   "outputs": [],
   "source": []
  },
  {
   "cell_type": "markdown",
   "id": "b8ab33a3",
   "metadata": {},
   "source": [
    "# Пример кода"
   ]
  },
  {
   "cell_type": "code",
   "execution_count": null,
   "id": "3728b9c5",
   "metadata": {},
   "outputs": [],
   "source": [
    "from pyspark.sql import SparkSession\n",
    "from pyspark.sql.functions import col, sum\n",
    "\n",
    "# 1. Создаем SparkSession\n",
    "spark = SparkSession.builder \\\n",
    "    .appName(\"Spark SQL with PostgreSQL and ClickHouse\") \\\n",
    "    .getOrCreate()\n",
    "\n",
    "print(spark.sparkContext._jsc.sc().listJars())\n",
    "\n",
    "# 2. Создаем DataFrame\n",
    "data = [\n",
    "    (\"Alice\", \"Sales\", 5000),\n",
    "    (\"Bob\", \"Sales\", 6000),\n",
    "    (\"Charlie\", \"HR\", 4000),\n",
    "    (\"David\", \"HR\", 4500),\n",
    "    (\"Eve\", \"Sales\", 5500)\n",
    "]\n",
    "columns = [\"Name\", \"Department\", \"Salary\"]\n",
    "df = spark.createDataFrame(data, columns)\n",
    "\n",
    "# Показываем исходный DataFrame\n",
    "print(\"Исходные данные:\")\n",
    "display(df.toPandas())\n",
    "\n",
    "# 3. Записываем данные в PostgreSQL\n",
    "pg_jdbc_url = \"jdbc:postgresql://localhost:5432/db\"\n",
    "properties = {\n",
    "    \"user\": \"Maxim\",\n",
    "    \"password\": \"12345\",\n",
    "    \"driver\": \"org.postgresql.Driver\"\n",
    "}\n",
    "\n",
    "# Записываем DataFrame в таблицу 'employees'\n",
    "df.write.jdbc(url=pg_jdbc_url, table=\"employees\", mode=\"overwrite\", properties=properties)\n",
    "\n",
    "# 4. Читаем данные из PostgreSQL\n",
    "df_from_postgres = spark.read.jdbc(url=pg_jdbc_url, table=\"employees\", properties=properties)\n",
    "\n",
    "print(\"Данные, прочитанные из PostgreSQL:\")\n",
    "display(df_from_postgres.toPandas())\n",
    "\n",
    "# 5. Выполняем агрегацию данных\n",
    "# Группируем по департаменту и считаем общую зарплату\n",
    "aggregated_df = df_from_postgres.groupBy(\"Department\").agg(sum(\"Salary\").alias(\"Total_Salary\"))\n",
    "\n",
    "print(\"Агрегированные данные (сумма зарплат по департаментам):\")\n",
    "pandas_df = aggregated_df.toPandas()\n",
    "display(pandas_df)\n",
    "\n",
    "# Записываем данные в ClickHouse через JDBC\n",
    "ch_jdbc_url = \"jdbc:clickhouse://localhost:8123/default\"\n",
    "properties = {\n",
    "    \"driver\": \"com.clickhouse.jdbc.ClickHouseDriver\",\n",
    "    \"user\": \"Maxim\",\n",
    "    \"password\": \"12345\"\n",
    "}\n",
    "\n",
    "# Записываем данные в ClickHouse\n",
    "aggregated_df.write.jdbc(url=ch_jdbc_url, table=\"default.report_ch\", mode=\"append\", properties=properties)\n",
    "\n",
    "# Читаем данные из ClickHouse\n",
    "ch_df = spark.read.jdbc(url=ch_jdbc_url, table=\"default.report_ch\", properties=properties)\n",
    "\n",
    "# Создаем временное view\n",
    "ch_df.createOrReplaceTempView(\"report_ch_view\")\n",
    "\n",
    "ch_pandas_df = spark.sql(\"select Total_Salary from report_ch_view where Department = 'HR' limit 1\").toPandas()\n",
    "\n",
    "print(\"Агрегированные данные (сумма зарплат по департаментам) из ClickHouse где выбран департамент HR:\")\n",
    "display(ch_pandas_df)\n",
    "\n",
    "# 6. Останавливаем SparkSession\n",
    "spark.stop()"
   ]
  }
 ],
 "metadata": {
  "kernelspec": {
   "display_name": "Python 3",
   "language": "python",
   "name": "python3"
  },
  "language_info": {
   "codemirror_mode": {
    "name": "ipython",
    "version": 3
   },
   "file_extension": ".py",
   "mimetype": "text/x-python",
   "name": "python",
   "nbconvert_exporter": "python",
   "pygments_lexer": "ipython3",
   "version": "3.10.11"
  }
 },
 "nbformat": 4,
 "nbformat_minor": 5
}
