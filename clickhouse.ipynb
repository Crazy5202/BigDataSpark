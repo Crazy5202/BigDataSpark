{
 "cells": [
  {
   "cell_type": "markdown",
   "id": "c05cb693",
   "metadata": {},
   "source": [
    "# Общая настройка"
   ]
  },
  {
   "cell_type": "code",
   "execution_count": 1,
   "id": "ac4d1ef6",
   "metadata": {},
   "outputs": [],
   "source": [
    "import os\n",
    "os.environ['PYSPARK_SUBMIT_ARGS'] = '--jars ./jars/postgresql-42.6.0.jar,./jars/clickhouse-jdbc-0.4.6.jar pyspark-shell'"
   ]
  },
  {
   "cell_type": "code",
   "execution_count": 2,
   "id": "b9469eda",
   "metadata": {},
   "outputs": [],
   "source": [
    "USER = os.getenv(\"USER\")\n",
    "PASSWORD = os.getenv(\"PASSWORD\")\n",
    "HOST = os.getenv(\"HOST\")\n",
    "\n",
    "PG_NAME = os.getenv(\"POSTGRES_DB\")\n",
    "PG_PORT = os.getenv(\"POSTGRES_PORT\")\n",
    "\n",
    "CH_NAME = os.getenv(\"CLICKHOUSE_DB\")\n",
    "CH_PORT = os.getenv(\"CLICKHOUSE_PORT\")"
   ]
  },
  {
   "cell_type": "markdown",
   "id": "587d063b",
   "metadata": {},
   "source": [
    "# Настройка подключения pyspark"
   ]
  },
  {
   "cell_type": "code",
   "execution_count": 3,
   "id": "414dbc85",
   "metadata": {},
   "outputs": [
    {
     "name": "stderr",
     "output_type": "stream",
     "text": [
      "WARNING: Using incubator modules: jdk.incubator.vector\n",
      "25/05/25 16:13:02 WARN NativeCodeLoader: Unable to load native-hadoop library for your platform... using builtin-java classes where applicable\n",
      "Using Spark's default log4j profile: org/apache/spark/log4j2-defaults.properties\n",
      "Setting default log level to \"WARN\".\n",
      "To adjust logging level use sc.setLogLevel(newLevel). For SparkR, use setLogLevel(newLevel).\n"
     ]
    }
   ],
   "source": [
    "from pyspark.sql import SparkSession\n",
    "\n",
    "spark = SparkSession.builder \\\n",
    "    .appName(\"Spark SQL with PostgreSQL\") \\\n",
    "    .getOrCreate()"
   ]
  },
  {
   "cell_type": "code",
   "execution_count": 4,
   "id": "084be06c",
   "metadata": {},
   "outputs": [],
   "source": [
    "pg_jdbc_url = f\"jdbc:postgresql://{HOST}:{PG_PORT}/{PG_NAME}\"\n",
    "pg_properties = {\n",
    "    \"user\": USER,\n",
    "    \"password\": PASSWORD,\n",
    "    \"driver\": \"org.postgresql.Driver\"\n",
    "}"
   ]
  },
  {
   "cell_type": "code",
   "execution_count": 5,
   "id": "15ae4da7",
   "metadata": {},
   "outputs": [],
   "source": [
    "ch_jdbc_url = f\"jdbc:clickhouse://{HOST}:{CH_PORT}/{CH_NAME}\"\n",
    "ch_properties = {\n",
    "    \"user\": USER,\n",
    "    \"password\": PASSWORD,\n",
    "    \"driver\": \"com.clickhouse.jdbc.ClickHouseDriver\"\n",
    "}"
   ]
  },
  {
   "cell_type": "markdown",
   "id": "a90aab7b",
   "metadata": {},
   "source": [
    "# Витрины"
   ]
  },
  {
   "cell_type": "code",
   "execution_count": 6,
   "id": "6b7a5ad8",
   "metadata": {},
   "outputs": [],
   "source": [
    "from pyspark.sql.functions import *"
   ]
  },
  {
   "cell_type": "code",
   "execution_count": 7,
   "id": "b3a933f4",
   "metadata": {},
   "outputs": [],
   "source": [
    "def load_table(table_name):\n",
    "    return spark.read.jdbc(url=pg_jdbc_url, table=table_name, properties=pg_properties)"
   ]
  },
  {
   "cell_type": "code",
   "execution_count": 8,
   "id": "ee0de4ed",
   "metadata": {},
   "outputs": [],
   "source": [
    "d_customer = load_table(\"d_customer\")\n",
    "d_product = load_table(\"d_product\")\n",
    "d_seller = load_table(\"d_seller\")\n",
    "d_store = load_table(\"d_store\")\n",
    "d_sipplier = load_table(\"d_supplier\")\n",
    "\n",
    "f_sales = load_table(\"f_sales\")"
   ]
  },
  {
   "cell_type": "code",
   "execution_count": 9,
   "id": "9784981a",
   "metadata": {},
   "outputs": [],
   "source": [
    "def save_report(df, name: str, order: str):\n",
    "    df.write \\\n",
    "    .mode(\"overwrite\") \\\n",
    "    .option(\"createTableOptions\", f\"\"\"\n",
    "        ENGINE = MergeTree()\n",
    "        ORDER BY ({order})\n",
    "    \"\"\") \\\n",
    "    .jdbc(url=ch_jdbc_url, table=name, properties=ch_properties)"
   ]
  },
  {
   "cell_type": "code",
   "execution_count": 39,
   "id": "211dd576",
   "metadata": {},
   "outputs": [],
   "source": [
    "def read_show(table_name:str):\n",
    "    ch_df = spark.read.jdbc(url=ch_jdbc_url, table=table_name, properties=ch_properties)\n",
    "    ch_df.show()"
   ]
  },
  {
   "cell_type": "code",
   "execution_count": 41,
   "id": "683441d7",
   "metadata": {},
   "outputs": [],
   "source": [
    "def save_show(df, name, order):\n",
    "    save_report(df, name, order)\n",
    "    read_show(name)"
   ]
  },
  {
   "cell_type": "markdown",
   "id": "13fc88ec",
   "metadata": {},
   "source": [
    "## 1. Витрина продаж по продуктам"
   ]
  },
  {
   "cell_type": "markdown",
   "id": "cbb95317",
   "metadata": {},
   "source": [
    "### Топ-10 самых продаваемых продуктов"
   ]
  },
  {
   "cell_type": "code",
   "execution_count": 10,
   "id": "b631d995",
   "metadata": {},
   "outputs": [],
   "source": [
    "top_products = f_sales \\\n",
    "    .join(d_product, f_sales.sale_product_id == d_product.product_id) \\\n",
    "    .groupBy(\n",
    "        d_product.product_id,\n",
    "        d_product.product_name,\n",
    "        d_product.product_category,\n",
    "        d_product.pet_category,\n",
    "        d_product.product_brand\n",
    "    ) \\\n",
    "    .agg(\n",
    "        sum(\"sale_quantity\").alias(\"total_quantity_sold\"),\n",
    "        sum(\"sale_total_price\").alias(\"total_revenue\")\n",
    "    ) \\\n",
    "    .orderBy(desc(\"total_revenue\")) \\\n",
    "    .limit(10)"
   ]
  },
  {
   "cell_type": "code",
   "execution_count": 42,
   "id": "6370be77",
   "metadata": {},
   "outputs": [
    {
     "name": "stdout",
     "output_type": "stream",
     "text": [
      "+----------+------------+----------------+------------+-------------+-------------------+--------------------+\n",
      "|product_id|product_name|product_category|pet_category|product_brand|total_quantity_sold|       total_revenue|\n",
      "+----------+------------+----------------+------------+-------------+-------------------+--------------------+\n",
      "|       260|   Bird Cage|             Toy|        Cats|       Voonix|                  4|499.6900000000000...|\n",
      "|       262|   Bird Cage|             Toy|        Fish|      Tagopia|                  9|499.6200000000000...|\n",
      "|       419|     Cat Toy|             Toy|        Dogs|        Lazzy|                 10|499.7300000000000...|\n",
      "|      2595|    Dog Food|             Toy|        Dogs|       Divavu|                  8|499.7600000000000...|\n",
      "|      2955|    Dog Food|            Food|        Dogs|         Mydo|                  2|499.7600000000000...|\n",
      "|      3792|     Cat Toy|             Toy|        Dogs|        Vidoo|                  7|499.8500000000000...|\n",
      "|      5247|    Dog Food|            Food|        Fish|      Jaxspan|                  9|499.8000000000000...|\n",
      "|      5271|    Dog Food|            Food|        Cats|        Skiba|                  8|499.7100000000000...|\n",
      "|      7730|    Dog Food|             Toy|    Reptiles|     Realblab|                 10|499.5900000000000...|\n",
      "|      9481|   Bird Cage|             Toy|        Dogs|      Tagfeed|                  3|499.6200000000000...|\n",
      "+----------+------------+----------------+------------+-------------+-------------------+--------------------+\n",
      "\n"
     ]
    },
    {
     "name": "stderr",
     "output_type": "stream",
     "text": [
      "25/05/25 16:35:51 WARN ClickHouseConnectionImpl: [JDBC Compliant Mode] Transaction is not supported. You may change jdbcCompliant to false to throw SQLException instead.\n",
      "25/05/25 16:35:51 WARN ClickHouseConnectionImpl: [JDBC Compliant Mode] Transaction is not supported. You may change jdbcCompliant to false to throw SQLException instead.\n",
      "25/05/25 16:35:51 WARN ClickHouseConnectionImpl: [JDBC Compliant Mode] Transaction [09d43860-e52d-4cbf-8963-dbec8626452b] (2 queries & 0 savepoints) is committed.\n",
      "25/05/25 16:35:51 WARN ClickHouseConnectionImpl: [JDBC Compliant Mode] Transaction [455e6451-7b2b-43a4-a276-a96d02db0687] (0 queries & 0 savepoints) is committed.\n"
     ]
    }
   ],
   "source": [
    "save_show(top_products, \"1_top10products\", \"product_id\")"
   ]
  },
  {
   "cell_type": "markdown",
   "id": "ec60e8ed",
   "metadata": {},
   "source": [
    "### Общая выручка по категориям продуктов"
   ]
  },
  {
   "cell_type": "code",
   "execution_count": null,
   "id": "3635800b",
   "metadata": {},
   "outputs": [],
   "source": [
    "revenue_by_category = f_sales \\\n",
    "    .join(d_product, f_sales.sale_product_id == d_product.product_id) \\\n",
    "    .groupBy(\n",
    "        d_product.product_category,\n",
    "        d_product.pet_category\n",
    "    ) \\\n",
    "    .agg(\n",
    "        sum(\"sale_total_price\").alias(\"total_revenue\"),\n",
    "        count(\"sale_id\").alias(\"total_transactions\"),\n",
    "        sum(\"sale_quantity\").alias(\"total_units_sold\")\n",
    "    ) \\\n",
    "    .orderBy(desc(\"total_revenue\"))"
   ]
  },
  {
   "cell_type": "code",
   "execution_count": 43,
   "id": "90d99b82",
   "metadata": {},
   "outputs": [
    {
     "name": "stdout",
     "output_type": "stream",
     "text": [
      "+----------------+------------+--------------------+------------------+----------------+\n",
      "|product_category|pet_category|       total_revenue|total_transactions|total_units_sold|\n",
      "+----------------+------------+--------------------+------------------+----------------+\n",
      "|            Cage|       Birds|181830.9300000000...|               693|            3740|\n",
      "|            Cage|    Reptiles|172473.9200000000...|               670|            3672|\n",
      "|            Cage|        Dogs|166057.7100000000...|               678|            3736|\n",
      "|            Cage|        Fish|158665.9600000000...|               657|            3491|\n",
      "|            Cage|        Cats|152089.4200000000...|               629|            3418|\n",
      "|            Food|       Birds|177085.2300000000...|               675|            3708|\n",
      "|            Food|        Fish|170664.5800000000...|               676|            3741|\n",
      "|            Food|        Cats|165220.8100000000...|               637|            3593|\n",
      "|            Food|        Dogs|162632.2800000000...|               661|            3508|\n",
      "|            Food|    Reptiles|155029.6500000000...|               618|            3381|\n",
      "|             Toy|        Dogs|182909.8500000000...|               717|            3800|\n",
      "|             Toy|        Fish|181426.5000000000...|               692|            3953|\n",
      "|             Toy|       Birds|176069.2100000000...|               702|            3787|\n",
      "|             Toy|        Cats|163869.8900000000...|               641|            3558|\n",
      "|             Toy|    Reptiles|163826.1800000000...|               654|            3537|\n",
      "+----------------+------------+--------------------+------------------+----------------+\n",
      "\n"
     ]
    },
    {
     "name": "stderr",
     "output_type": "stream",
     "text": [
      "25/05/25 16:36:19 WARN ClickHouseConnectionImpl: [JDBC Compliant Mode] Transaction is not supported. You may change jdbcCompliant to false to throw SQLException instead.\n",
      "25/05/25 16:36:19 WARN ClickHouseConnectionImpl: [JDBC Compliant Mode] Transaction is not supported. You may change jdbcCompliant to false to throw SQLException instead.\n",
      "25/05/25 16:36:19 WARN ClickHouseConnectionImpl: [JDBC Compliant Mode] Transaction [e4f47d1e-ff0c-46d9-b823-3265f104dfb8] (2 queries & 0 savepoints) is committed.\n",
      "25/05/25 16:36:19 WARN ClickHouseConnectionImpl: [JDBC Compliant Mode] Transaction [799db1d7-54e4-440d-b852-8cbb0fc2fe24] (0 queries & 0 savepoints) is committed.\n"
     ]
    }
   ],
   "source": [
    "save_show(revenue_by_category, \"1_bycategory\", \"product_category\")"
   ]
  },
  {
   "cell_type": "markdown",
   "id": "c0901933",
   "metadata": {},
   "source": [
    "### Средний рейтинг и количество отзывов для каждого продукта"
   ]
  },
  {
   "cell_type": "code",
   "execution_count": 45,
   "id": "bb194af9",
   "metadata": {},
   "outputs": [],
   "source": [
    "product_ratings = d_product.select(\n",
    "    \"product_id\",\n",
    "    \"product_rating\",\n",
    "    \"product_reviews\"\n",
    ")"
   ]
  },
  {
   "cell_type": "code",
   "execution_count": 46,
   "id": "a718fe3a",
   "metadata": {},
   "outputs": [
    {
     "name": "stderr",
     "output_type": "stream",
     "text": [
      "25/05/25 16:40:52 WARN ClickHouseConnectionImpl: [JDBC Compliant Mode] Transaction is not supported. You may change jdbcCompliant to false to throw SQLException instead.\n",
      "25/05/25 16:40:52 WARN ClickHouseConnectionImpl: [JDBC Compliant Mode] Transaction is not supported. You may change jdbcCompliant to false to throw SQLException instead.\n",
      "25/05/25 16:40:52 WARN ClickHouseConnectionImpl: [JDBC Compliant Mode] Transaction [8edb19f2-be76-4472-bf6e-1bbbce5d5685] (11 queries & 0 savepoints) is committed.\n",
      "25/05/25 16:40:52 WARN ClickHouseConnectionImpl: [JDBC Compliant Mode] Transaction [1b47e9bf-baa8-442b-a200-36b1274d9554] (0 queries & 0 savepoints) is committed.\n"
     ]
    },
    {
     "name": "stdout",
     "output_type": "stream",
     "text": [
      "+----------+--------------------+---------------+\n",
      "|product_id|      product_rating|product_reviews|\n",
      "+----------+--------------------+---------------+\n",
      "|      6620|1.900000000000000000|            874|\n",
      "|      6622|1.800000000000000000|            439|\n",
      "|      6624|4.400000000000000000|            549|\n",
      "|      6625|2.800000000000000000|            696|\n",
      "|      6627|3.500000000000000000|            547|\n",
      "|      6629|4.300000000000000000|            631|\n",
      "|      6630|1.200000000000000000|            229|\n",
      "|      6632|1.300000000000000000|            942|\n",
      "|      6635|2.800000000000000000|            535|\n",
      "|      6637|3.300000000000000000|            552|\n",
      "|      6639|1.300000000000000000|            183|\n",
      "|      6641|2.200000000000000000|            620|\n",
      "|      6642|1.800000000000000000|              8|\n",
      "|      6644|4.200000000000000000|             34|\n",
      "|      6645|3.900000000000000000|            188|\n",
      "|      6647|2.700000000000000000|            320|\n",
      "|      6649|5.000000000000000000|            718|\n",
      "|      6650|1.300000000000000000|            679|\n",
      "|      7002|1.900000000000000000|            527|\n",
      "|      7003|2.500000000000000000|            831|\n",
      "+----------+--------------------+---------------+\n",
      "only showing top 20 rows\n"
     ]
    }
   ],
   "source": [
    "save_show(product_ratings, \"1_ratings\", \"product_id\")"
   ]
  },
  {
   "cell_type": "markdown",
   "id": "602a0a07",
   "metadata": {},
   "source": [
    "## 2. Витрина продаж по клиентам"
   ]
  },
  {
   "cell_type": "markdown",
   "id": "f73dbc57",
   "metadata": {},
   "source": [
    "### Топ-10 клиентов с наибольшей общей суммой покупок"
   ]
  },
  {
   "cell_type": "code",
   "execution_count": null,
   "id": "77923d16",
   "metadata": {},
   "outputs": [],
   "source": [
    "top_customers = f_sales \\\n",
    "    .join(d_customer, f_sales.sale_customer_id == d_customer.customer_id) \\\n",
    "    .groupBy(\n",
    "        d_customer.customer_id,\n",
    "        d_customer.customer_first_name,\n",
    "        d_customer.customer_last_name,\n",
    "        d_customer.customer_email,\n",
    "        d_customer.customer_country\n",
    "    ) \\\n",
    "    .agg(\n",
    "        sum(\"sale_total_price\").alias(\"total_spent\"),\n",
    "        count(\"sale_id\").alias(\"purchase_count\"),\n",
    "        sum(\"sale_quantity\").alias(\"total_items_purchased\")\n",
    "    ) \\\n",
    "    .orderBy(desc(\"total_spent\")) \\\n",
    "    .limit(10)"
   ]
  },
  {
   "cell_type": "code",
   "execution_count": 48,
   "id": "8bedc405",
   "metadata": {},
   "outputs": [
    {
     "name": "stderr",
     "output_type": "stream",
     "text": [
      "25/05/25 16:42:38 WARN ClickHouseConnectionImpl: [JDBC Compliant Mode] Transaction is not supported. You may change jdbcCompliant to false to throw SQLException instead.\n",
      "25/05/25 16:42:39 WARN ClickHouseConnectionImpl: [JDBC Compliant Mode] Transaction is not supported. You may change jdbcCompliant to false to throw SQLException instead.\n",
      "25/05/25 16:42:39 WARN ClickHouseConnectionImpl: [JDBC Compliant Mode] Transaction [c4909de0-79dc-40f9-a791-384e075f9bbe] (2 queries & 0 savepoints) is committed.\n",
      "25/05/25 16:42:39 WARN ClickHouseConnectionImpl: [JDBC Compliant Mode] Transaction [0bab8df1-687a-4157-92a0-a0b6037e8af5] (0 queries & 0 savepoints) is committed.\n"
     ]
    },
    {
     "name": "stdout",
     "output_type": "stream",
     "text": [
      "+-----------+-------------------+------------------+--------------------+----------------+--------------------+--------------+---------------------+\n",
      "|customer_id|customer_first_name|customer_last_name|      customer_email|customer_country|         total_spent|purchase_count|total_items_purchased|\n",
      "+-----------+-------------------+------------------+--------------------+----------------+--------------------+--------------+---------------------+\n",
      "|       1494|              Hayes|            McKain|sstappardbp@busin...|        Portugal|499.8000000000000...|             1|                    9|\n",
      "|       1527|           Isahella|            Colley|bselewayi0@chron.com|          Russia|499.6900000000000...|             1|                    4|\n",
      "|       1795|            Lavinia|         Horsburgh|previllh3@tinyurl...|          Poland|499.7300000000000...|             1|                   10|\n",
      "|       4466|                Ava|             Lomas|dsorea0@geocities...|           China|499.7600000000000...|             1|                    2|\n",
      "|       4470|              Nicky|            Lattie|gcoupman2@bigcart...|          Mexico|499.6200000000000...|             1|                    9|\n",
      "|       4508|               Eran|             Cotes|       svispof9@t.co|           China|499.5900000000000...|             1|                   10|\n",
      "|       5982|               Dame|        Auchinleck|jthurnhamqe@sourc...|       Indonesia|499.7100000000000...|             1|                    8|\n",
      "|       5991|             Sisely|          Bonevant|   wpulmano6@loc.gov|           China|499.6200000000000...|             1|                    3|\n",
      "|       6885|                Gus|         Hartshorn| bfeasby57@youku.com|         Albania|499.8500000000000...|             1|                    7|\n",
      "|       7992|              Dawna|             Impey|    rivattspm@un.org|       Indonesia|499.7600000000000...|             1|                    8|\n",
      "+-----------+-------------------+------------------+--------------------+----------------+--------------------+--------------+---------------------+\n",
      "\n"
     ]
    }
   ],
   "source": [
    "save_show(top_customers, \"2_top10customers\", \"customer_id\")"
   ]
  },
  {
   "cell_type": "markdown",
   "id": "95fcd081",
   "metadata": {},
   "source": [
    "### Распределение клиентов по странам"
   ]
  },
  {
   "cell_type": "code",
   "execution_count": null,
   "id": "c459ef10",
   "metadata": {},
   "outputs": [],
   "source": [
    "customers_by_country = f_sales \\\n",
    "    .join(d_customer, f_sales.sale_customer_id == d_customer.customer_id) \\\n",
    "    .groupBy(d_customer.customer_country) \\\n",
    "    .agg(\n",
    "        count(\"customer_id\").alias(\"customer_count\"),\n",
    "        sum(\"sale_total_price\").alias(\"total_revenue\"),\n",
    "        avg(\"sale_total_price\").alias(\"avg_revenue_per_customer\"),\n",
    "        sum(\"sale_quantity\").alias(\"total_items_sold\")\n",
    "    ) \\\n",
    "    .orderBy(desc(\"total_revenue\"))"
   ]
  },
  {
   "cell_type": "code",
   "execution_count": 50,
   "id": "7ce94dae",
   "metadata": {},
   "outputs": [
    {
     "name": "stdout",
     "output_type": "stream",
     "text": [
      "+-------------------+--------------+--------------------+------------------------+----------------+\n",
      "|   customer_country|customer_count|       total_revenue|avg_revenue_per_customer|total_items_sold|\n",
      "+-------------------+--------------+--------------------+------------------------+----------------+\n",
      "|        Afghanistan|            31|8532.720000000000...|    275.2490322580645...|             171|\n",
      "|      Aland Islands|             2|571.4600000000000...|    285.7300000000000...|               7|\n",
      "|            Albania|            46|11821.24000000000...|    256.9834782608695...|             227|\n",
      "|     American Samoa|             3|385.7500000000000...|    128.5833333333333...|              22|\n",
      "|            Andorra|             2|579.8500000000000...|    289.9250000000000...|              15|\n",
      "|             Angola|             6|1914.940000000000...|    319.1566666666666...|              30|\n",
      "|Antigua and Barbuda|             3|775.3700000000000...|    258.4566666666666...|              19|\n",
      "|          Argentina|           113|26739.31000000000...|    236.6310619469026...|             614|\n",
      "|            Armenia|            34|8847.560000000000...|    260.2223529411764...|             185|\n",
      "|          Australia|             3|726.0700000000000...|    242.0233333333333...|              19|\n",
      "|            Austria|             6|1441.180000000000...|    240.1966666666666...|              39|\n",
      "|         Azerbaijan|            21|5853.520000000000...|    278.7390476190476...|             126|\n",
      "|            Bahamas|             6|1658.530000000000...|    276.4216666666666...|              26|\n",
      "|            Bahrain|             3|596.4100000000000...|    198.8033333333333...|              23|\n",
      "|         Bangladesh|            17|4738.170000000000...|    278.7158823529411...|              74|\n",
      "|           Barbados|             1|37.32000000000000...|    37.32000000000000...|               4|\n",
      "|            Belarus|            30|8266.770000000000...|    275.5590000000000...|             162|\n",
      "|            Belgium|             5|1283.790000000000...|    256.7580000000000...|              29|\n",
      "|             Belize|             1|476.5100000000000...|    476.5100000000000...|               8|\n",
      "|              Benin|             4|900.5400000000000...|    225.1350000000000...|              24|\n",
      "+-------------------+--------------+--------------------+------------------------+----------------+\n",
      "only showing top 20 rows\n"
     ]
    },
    {
     "name": "stderr",
     "output_type": "stream",
     "text": [
      "25/05/25 16:43:51 WARN ClickHouseConnectionImpl: [JDBC Compliant Mode] Transaction is not supported. You may change jdbcCompliant to false to throw SQLException instead.\n",
      "25/05/25 16:43:51 WARN ClickHouseConnectionImpl: [JDBC Compliant Mode] Transaction is not supported. You may change jdbcCompliant to false to throw SQLException instead.\n",
      "25/05/25 16:43:51 WARN ClickHouseConnectionImpl: [JDBC Compliant Mode] Transaction [953b97c6-28ba-414d-beca-0ac8cb4931cc] (2 queries & 0 savepoints) is committed.\n",
      "25/05/25 16:43:51 WARN ClickHouseConnectionImpl: [JDBC Compliant Mode] Transaction [20932a02-ffed-4b31-a6bf-d48dc6ded59b] (0 queries & 0 savepoints) is committed.\n"
     ]
    }
   ],
   "source": [
    "save_show(customers_by_country, \"2_contryspread\", \"customer_country\")"
   ]
  },
  {
   "cell_type": "markdown",
   "id": "75f6c072",
   "metadata": {},
   "source": [
    "### Средний чек для каждого клиента"
   ]
  },
  {
   "cell_type": "code",
   "execution_count": 51,
   "id": "e3fa3082",
   "metadata": {},
   "outputs": [],
   "source": [
    "customer_avg_check = f_sales \\\n",
    "    .join(d_customer, f_sales.sale_customer_id == d_customer.customer_id) \\\n",
    "    .groupBy(\n",
    "        d_customer.customer_id,\n",
    "    ) \\\n",
    "    .agg(\n",
    "        (sum(\"sale_total_price\") / count(\"sale_id\")).alias(\"avg_check\"),\n",
    "    )"
   ]
  },
  {
   "cell_type": "code",
   "execution_count": 52,
   "id": "94ee4b61",
   "metadata": {},
   "outputs": [
    {
     "name": "stderr",
     "output_type": "stream",
     "text": [
      "25/05/25 16:46:12 WARN ClickHouseConnectionImpl: [JDBC Compliant Mode] Transaction is not supported. You may change jdbcCompliant to false to throw SQLException instead.\n",
      "25/05/25 16:46:12 WARN ClickHouseConnectionImpl: [JDBC Compliant Mode] Transaction is not supported. You may change jdbcCompliant to false to throw SQLException instead.\n",
      "25/05/25 16:46:12 WARN ClickHouseConnectionImpl: [JDBC Compliant Mode] Transaction [42397381-7db2-4e51-af63-85e8485ad8e2] (11 queries & 0 savepoints) is committed.\n",
      "25/05/25 16:46:12 WARN ClickHouseConnectionImpl: [JDBC Compliant Mode] Transaction [aa269b74-2414-428c-a1b0-ac4325f8c99a] (0 queries & 0 savepoints) is committed.\n"
     ]
    },
    {
     "name": "stdout",
     "output_type": "stream",
     "text": [
      "+-----------+--------------------+\n",
      "|customer_id|           avg_check|\n",
      "+-----------+--------------------+\n",
      "|         10|367.7300000000000...|\n",
      "|         24|335.3000000000000...|\n",
      "|         25|272.8300000000000...|\n",
      "|         38|270.4100000000000...|\n",
      "|         45|205.5400000000000...|\n",
      "|         50|179.0700000000000...|\n",
      "|         62|14.26000000000000...|\n",
      "|         63|309.2900000000000...|\n",
      "|         70|46.43000000000000...|\n",
      "|         73|361.7200000000000...|\n",
      "|         77|131.5800000000000...|\n",
      "|         80|425.8700000000000...|\n",
      "|         82|416.7800000000000...|\n",
      "|        102|376.8900000000000...|\n",
      "|        113|353.5900000000000...|\n",
      "|        121|103.6800000000000...|\n",
      "|        125|182.8500000000000...|\n",
      "|        156|80.26000000000000...|\n",
      "|        160|167.1200000000000...|\n",
      "|        167|306.9400000000000...|\n",
      "+-----------+--------------------+\n",
      "only showing top 20 rows\n"
     ]
    }
   ],
   "source": [
    "save_show(customer_avg_check, \"2_customeravgcheck\", \"customer_id\")"
   ]
  },
  {
   "cell_type": "markdown",
   "id": "f46d304f",
   "metadata": {},
   "source": [
    "## 3. Витрина продаж по времени"
   ]
  },
  {
   "cell_type": "markdown",
   "id": "5ee7a098",
   "metadata": {},
   "source": [
    "### Месячные и годовые тренды продаж"
   ]
  },
  {
   "cell_type": "code",
   "execution_count": 53,
   "id": "54dc05ff",
   "metadata": {},
   "outputs": [],
   "source": [
    "sales_trends = f_sales \\\n",
    "    .withColumn(\"year\", year(\"sale_date\")) \\\n",
    "    .withColumn(\"month\", month(\"sale_date\")) \\\n",
    "    .groupBy(\"year\", \"month\") \\\n",
    "    .agg(\n",
    "        sum(\"sale_total_price\").alias(\"monthly_revenue\"),\n",
    "        count(\"sale_id\").alias(\"order_count\"),\n",
    "        sum(\"sale_quantity\").alias(\"total_items_sold\"),\n",
    "        (sum(\"sale_total_price\") / count(\"sale_id\")).alias(\"avg_order_value\"),\n",
    "        approx_count_distinct(\"sale_customer_id\").alias(\"unique_customers\")\n",
    "    ) \\\n",
    "    .orderBy(\"year\", \"month\")"
   ]
  },
  {
   "cell_type": "code",
   "execution_count": 54,
   "id": "a9cd950a",
   "metadata": {},
   "outputs": [
    {
     "name": "stderr",
     "output_type": "stream",
     "text": [
      "25/05/25 17:01:37 WARN SparkStringUtils: Truncated the string representation of a plan since it was too large. This behavior can be adjusted by setting 'spark.sql.debug.maxToStringFields'.\n"
     ]
    },
    {
     "name": "stdout",
     "output_type": "stream",
     "text": [
      "+----+-----+--------------------+-----------+----------------+--------------------+----------------+\n",
      "|year|month|     monthly_revenue|order_count|total_items_sold|     avg_order_value|unique_customers|\n",
      "+----+-----+--------------------+-----------+----------------+--------------------+----------------+\n",
      "|2010|    1|203842.2000000000...|        807|            4478|252.5925650557620...|             802|\n",
      "|2011|    1|197096.2200000000...|        775|            4171|254.3177032258064...|             811|\n",
      "|2012|    1|202942.4800000000...|        800|            4534|253.6781000000000...|             821|\n",
      "|2013|    1|199344.9800000000...|        788|            4257|252.9758629441624...|             765|\n",
      "|2014|    1|191980.7200000000...|        773|            4277|248.3579818887451...|             765|\n",
      "|2015|    1|197908.7900000000...|        760|            4043|260.4063026315789...|             734|\n",
      "|2016|    1|192888.2600000000...|        766|            4213|251.8123498694516...|             774|\n",
      "|2017|    1|194570.9800000000...|        767|            4212|253.6779400260756...|             774|\n",
      "|2018|    1|207965.9400000000...|        805|            4280|258.3427826086956...|             816|\n",
      "|2019|    1|177949.1500000000...|        721|            3928|246.8088072122052...|             671|\n",
      "|2020|    1|181969.5500000000...|        726|            3932|250.6467630853994...|             765|\n",
      "|2021|    1|196211.5500000000...|        786|            4316|249.6330152671755...|             756|\n",
      "|2022|    1|185181.3000000000...|        726|            3982|255.0706611570247...|             734|\n",
      "+----+-----+--------------------+-----------+----------------+--------------------+----------------+\n",
      "\n"
     ]
    },
    {
     "name": "stderr",
     "output_type": "stream",
     "text": [
      "25/05/25 17:01:38 WARN ClickHouseConnectionImpl: [JDBC Compliant Mode] Transaction is not supported. You may change jdbcCompliant to false to throw SQLException instead.\n",
      "25/05/25 17:01:38 WARN ClickHouseConnectionImpl: [JDBC Compliant Mode] Transaction is not supported. You may change jdbcCompliant to false to throw SQLException instead.\n",
      "25/05/25 17:01:38 WARN ClickHouseConnectionImpl: [JDBC Compliant Mode] Transaction [83f8236c-43c6-45af-9012-dce5969e43ec] (2 queries & 0 savepoints) is committed.\n",
      "25/05/25 17:01:38 WARN ClickHouseConnectionImpl: [JDBC Compliant Mode] Transaction [5c311a73-bb67-4479-a63d-73aaf0471572] (0 queries & 0 savepoints) is committed.\n"
     ]
    }
   ],
   "source": [
    "save_show(sales_trends, \"3_salestrends\", \"year, month\")"
   ]
  },
  {
   "cell_type": "code",
   "execution_count": null,
   "id": "40faa135",
   "metadata": {},
   "outputs": [],
   "source": []
  },
  {
   "cell_type": "markdown",
   "id": "3a271282",
   "metadata": {},
   "source": [
    "### Сравнение выручки за разные периоды"
   ]
  },
  {
   "cell_type": "code",
   "execution_count": null,
   "id": "c54c533c",
   "metadata": {},
   "outputs": [],
   "source": []
  },
  {
   "cell_type": "markdown",
   "id": "a50a2e8e",
   "metadata": {},
   "source": [
    "### Средний размер заказа по месяцам"
   ]
  },
  {
   "cell_type": "code",
   "execution_count": null,
   "id": "2b09d9bc",
   "metadata": {},
   "outputs": [],
   "source": []
  },
  {
   "cell_type": "markdown",
   "id": "b61db5d9",
   "metadata": {},
   "source": [
    "## 4. Витрина продаж по магазинам"
   ]
  },
  {
   "cell_type": "markdown",
   "id": "5b72ffa0",
   "metadata": {},
   "source": [
    "### Топ-5 магазинов с наибольшей выручкой"
   ]
  },
  {
   "cell_type": "code",
   "execution_count": null,
   "id": "951c19d2",
   "metadata": {},
   "outputs": [],
   "source": []
  },
  {
   "cell_type": "markdown",
   "id": "aa0f037f",
   "metadata": {},
   "source": [
    "### Распределение продаж по городам и странам"
   ]
  },
  {
   "cell_type": "code",
   "execution_count": null,
   "id": "ae2f3db4",
   "metadata": {},
   "outputs": [],
   "source": []
  },
  {
   "cell_type": "markdown",
   "id": "7a4ca066",
   "metadata": {},
   "source": [
    "### Средний чек для каждого магазина"
   ]
  },
  {
   "cell_type": "code",
   "execution_count": null,
   "id": "113a22c3",
   "metadata": {},
   "outputs": [],
   "source": []
  },
  {
   "cell_type": "markdown",
   "id": "28ef5541",
   "metadata": {},
   "source": [
    "## 5. Витрина продаж по поставщикам"
   ]
  },
  {
   "cell_type": "markdown",
   "id": "19285730",
   "metadata": {},
   "source": [
    "### Топ-5 поставщиков с наибольшей выручкой"
   ]
  },
  {
   "cell_type": "code",
   "execution_count": null,
   "id": "3ba7f3f3",
   "metadata": {},
   "outputs": [],
   "source": []
  },
  {
   "cell_type": "markdown",
   "id": "b2f980dd",
   "metadata": {},
   "source": [
    "### Средняя цена товаров от каждого поставщика"
   ]
  },
  {
   "cell_type": "code",
   "execution_count": null,
   "id": "72832229",
   "metadata": {},
   "outputs": [],
   "source": []
  },
  {
   "cell_type": "markdown",
   "id": "66d897d9",
   "metadata": {},
   "source": [
    "### Распределение продаж по странам поставщиков"
   ]
  },
  {
   "cell_type": "code",
   "execution_count": null,
   "id": "f5eb0c93",
   "metadata": {},
   "outputs": [],
   "source": []
  },
  {
   "cell_type": "markdown",
   "id": "33862a57",
   "metadata": {},
   "source": [
    "## 6. Качество продукции"
   ]
  },
  {
   "cell_type": "markdown",
   "id": "7ad4eeaf",
   "metadata": {},
   "source": [
    "### Продукты с наивысшим и наименьшим рейтингом"
   ]
  },
  {
   "cell_type": "code",
   "execution_count": null,
   "id": "3ee201ee",
   "metadata": {},
   "outputs": [],
   "source": []
  },
  {
   "cell_type": "markdown",
   "id": "6522aa21",
   "metadata": {},
   "source": [
    "### Корреляция между рейтингом и объемом продаж"
   ]
  },
  {
   "cell_type": "code",
   "execution_count": null,
   "id": "e46f81e2",
   "metadata": {},
   "outputs": [],
   "source": []
  },
  {
   "cell_type": "markdown",
   "id": "7737aeb7",
   "metadata": {},
   "source": [
    "### Продукты с наибольшим количеством отзывов"
   ]
  },
  {
   "cell_type": "code",
   "execution_count": null,
   "id": "b9c97f65",
   "metadata": {},
   "outputs": [],
   "source": []
  },
  {
   "cell_type": "markdown",
   "id": "b8ab33a3",
   "metadata": {},
   "source": [
    "# Пример кода"
   ]
  },
  {
   "cell_type": "code",
   "execution_count": null,
   "id": "3728b9c5",
   "metadata": {},
   "outputs": [],
   "source": [
    "from pyspark.sql import SparkSession\n",
    "from pyspark.sql.functions import col, sum\n",
    "\n",
    "# 1. Создаем SparkSession\n",
    "spark = SparkSession.builder \\\n",
    "    .appName(\"Spark SQL with PostgreSQL and ClickHouse\") \\\n",
    "    .getOrCreate()\n",
    "\n",
    "print(spark.sparkContext._jsc.sc().listJars())\n",
    "\n",
    "# 2. Создаем DataFrame\n",
    "data = [\n",
    "    (\"Alice\", \"Sales\", 5000),\n",
    "    (\"Bob\", \"Sales\", 6000),\n",
    "    (\"Charlie\", \"HR\", 4000),\n",
    "    (\"David\", \"HR\", 4500),\n",
    "    (\"Eve\", \"Sales\", 5500)\n",
    "]\n",
    "columns = [\"Name\", \"Department\", \"Salary\"]\n",
    "df = spark.createDataFrame(data, columns)\n",
    "\n",
    "# Показываем исходный DataFrame\n",
    "print(\"Исходные данные:\")\n",
    "display(df.toPandas())\n",
    "\n",
    "# 3. Записываем данные в PostgreSQL\n",
    "pg_jdbc_url = \"jdbc:postgresql://localhost:5432/db\"\n",
    "properties = {\n",
    "    \"user\": \"Maxim\",\n",
    "    \"password\": \"12345\",\n",
    "    \"driver\": \"org.postgresql.Driver\"\n",
    "}\n",
    "\n",
    "# Записываем DataFrame в таблицу 'employees'\n",
    "df.write.jdbc(url=pg_jdbc_url, table=\"employees\", mode=\"overwrite\", properties=properties)\n",
    "\n",
    "# 4. Читаем данные из PostgreSQL\n",
    "df_from_postgres = spark.read.jdbc(url=pg_jdbc_url, table=\"employees\", properties=properties)\n",
    "\n",
    "print(\"Данные, прочитанные из PostgreSQL:\")\n",
    "display(df_from_postgres.toPandas())\n",
    "\n",
    "# 5. Выполняем агрегацию данных\n",
    "# Группируем по департаменту и считаем общую зарплату\n",
    "aggregated_df = df_from_postgres.groupBy(\"Department\").agg(sum(\"Salary\").alias(\"Total_Salary\"))\n",
    "\n",
    "print(\"Агрегированные данные (сумма зарплат по департаментам):\")\n",
    "pandas_df = aggregated_df.toPandas()\n",
    "display(pandas_df)\n",
    "\n",
    "# Записываем данные в ClickHouse через JDBC\n",
    "ch_jdbc_url = \"jdbc:clickhouse://localhost:8123/default\"\n",
    "properties = {\n",
    "    \"driver\": \"com.clickhouse.jdbc.ClickHouseDriver\",\n",
    "    \"user\": \"Maxim\",\n",
    "    \"password\": \"12345\"\n",
    "}\n",
    "\n",
    "# Записываем данные в ClickHouse\n",
    "aggregated_df.write.jdbc(url=ch_jdbc_url, table=\"default.report_ch\", mode=\"append\", properties=properties)\n",
    "\n",
    "# Читаем данные из ClickHouse\n",
    "ch_df = spark.read.jdbc(url=ch_jdbc_url, table=\"default.report_ch\", properties=properties)\n",
    "\n",
    "# Создаем временное view\n",
    "ch_df.createOrReplaceTempView(\"report_ch_view\")\n",
    "\n",
    "ch_pandas_df = spark.sql(\"select Total_Salary from report_ch_view where Department = 'HR' limit 1\").toPandas()\n",
    "\n",
    "print(\"Агрегированные данные (сумма зарплат по департаментам) из ClickHouse где выбран департамент HR:\")\n",
    "display(ch_pandas_df)\n",
    "\n",
    "# 6. Останавливаем SparkSession\n",
    "spark.stop()"
   ]
  }
 ],
 "metadata": {
  "kernelspec": {
   "display_name": "Python 3",
   "language": "python",
   "name": "python3"
  },
  "language_info": {
   "codemirror_mode": {
    "name": "ipython",
    "version": 3
   },
   "file_extension": ".py",
   "mimetype": "text/x-python",
   "name": "python",
   "nbconvert_exporter": "python",
   "pygments_lexer": "ipython3",
   "version": "3.10.11"
  }
 },
 "nbformat": 4,
 "nbformat_minor": 5
}
