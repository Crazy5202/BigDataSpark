{
 "cells": [
  {
   "cell_type": "markdown",
   "id": "a80b71cb",
   "metadata": {},
   "source": [
    "Запускается либо локально, либо в контейнере с подключённым spark master/worker"
   ]
  },
  {
   "cell_type": "markdown",
   "id": "c05cb693",
   "metadata": {},
   "source": [
    "# Общая настройка"
   ]
  },
  {
   "cell_type": "code",
   "execution_count": 1,
   "id": "ac4d1ef6",
   "metadata": {},
   "outputs": [],
   "source": [
    "import os\n",
    "os.environ['PYSPARK_SUBMIT_ARGS'] = '--jars ./jars/postgresql-42.6.0.jar,./jars/clickhouse-jdbc-0.4.6.jar pyspark-shell'"
   ]
  },
  {
   "cell_type": "code",
   "execution_count": 2,
   "id": "b9469eda",
   "metadata": {},
   "outputs": [],
   "source": [
    "USER = os.getenv(\"USER\")\n",
    "PASSWORD = os.getenv(\"PASSWORD\")\n",
    "HOST = os.getenv(\"HOST\")\n",
    "\n",
    "PG_NAME = os.getenv(\"POSTGRES_DB\")\n",
    "PG_PORT = os.getenv(\"POSTGRES_PORT\")\n",
    "\n",
    "CH_NAME = os.getenv(\"CLICKHOUSE_DB\")\n",
    "CH_PORT = os.getenv(\"CLICKHOUSE_PORT\")"
   ]
  },
  {
   "cell_type": "markdown",
   "id": "587d063b",
   "metadata": {},
   "source": [
    "# Настройка подключения pyspark"
   ]
  },
  {
   "cell_type": "code",
   "execution_count": 3,
   "id": "414dbc85",
   "metadata": {},
   "outputs": [
    {
     "name": "stderr",
     "output_type": "stream",
     "text": [
      "WARNING: Using incubator modules: jdk.incubator.vector\n",
      "25/05/25 19:18:02 WARN NativeCodeLoader: Unable to load native-hadoop library for your platform... using builtin-java classes where applicable\n",
      "Using Spark's default log4j profile: org/apache/spark/log4j2-defaults.properties\n",
      "Setting default log level to \"WARN\".\n",
      "To adjust logging level use sc.setLogLevel(newLevel). For SparkR, use setLogLevel(newLevel).\n"
     ]
    }
   ],
   "source": [
    "from pyspark.sql import SparkSession\n",
    "\n",
    "spark = SparkSession.builder \\\n",
    "    .appName(\"Spark SQL with PostgreSQL\") \\\n",
    "    .getOrCreate()"
   ]
  },
  {
   "cell_type": "code",
   "execution_count": 4,
   "id": "084be06c",
   "metadata": {},
   "outputs": [],
   "source": [
    "pg_jdbc_url = f\"jdbc:postgresql://{HOST}:{PG_PORT}/{PG_NAME}\"\n",
    "pg_properties = {\n",
    "    \"user\": USER,\n",
    "    \"password\": PASSWORD,\n",
    "    \"driver\": \"org.postgresql.Driver\"\n",
    "}"
   ]
  },
  {
   "cell_type": "code",
   "execution_count": 5,
   "id": "15ae4da7",
   "metadata": {},
   "outputs": [],
   "source": [
    "ch_jdbc_url = f\"jdbc:clickhouse://{HOST}:{CH_PORT}/{CH_NAME}\"\n",
    "ch_properties = {\n",
    "    \"user\": USER,\n",
    "    \"password\": PASSWORD,\n",
    "    \"driver\": \"com.clickhouse.jdbc.ClickHouseDriver\"\n",
    "}"
   ]
  },
  {
   "cell_type": "markdown",
   "id": "a90aab7b",
   "metadata": {},
   "source": [
    "# Витрины"
   ]
  },
  {
   "cell_type": "code",
   "execution_count": 6,
   "id": "6b7a5ad8",
   "metadata": {},
   "outputs": [],
   "source": [
    "from pyspark.sql.functions import *"
   ]
  },
  {
   "cell_type": "code",
   "execution_count": 7,
   "id": "b3a933f4",
   "metadata": {},
   "outputs": [],
   "source": [
    "def load_table(table_name):\n",
    "    return spark.read.jdbc(url=pg_jdbc_url, table=table_name, properties=pg_properties)"
   ]
  },
  {
   "cell_type": "code",
   "execution_count": 8,
   "id": "ee0de4ed",
   "metadata": {},
   "outputs": [],
   "source": [
    "d_customer = load_table(\"d_customer\")\n",
    "d_product = load_table(\"d_product\")\n",
    "d_seller = load_table(\"d_seller\")\n",
    "d_store = load_table(\"d_store\")\n",
    "d_supplier = load_table(\"d_supplier\")\n",
    "\n",
    "f_sales = load_table(\"f_sales\")"
   ]
  },
  {
   "cell_type": "code",
   "execution_count": 9,
   "id": "9784981a",
   "metadata": {},
   "outputs": [],
   "source": [
    "def save_report(df, name: str, order: str):\n",
    "    df.write \\\n",
    "    .mode(\"overwrite\") \\\n",
    "    .option(\"createTableOptions\", f\"\"\"\n",
    "        ENGINE = MergeTree()\n",
    "        ORDER BY ({order})\n",
    "    \"\"\") \\\n",
    "    .jdbc(url=ch_jdbc_url, table=name, properties=ch_properties)"
   ]
  },
  {
   "cell_type": "code",
   "execution_count": 10,
   "id": "211dd576",
   "metadata": {},
   "outputs": [],
   "source": [
    "def read_show(table_name:str):\n",
    "    ch_df = spark.read.jdbc(url=ch_jdbc_url, table=table_name, properties=ch_properties)\n",
    "    ch_df.show()"
   ]
  },
  {
   "cell_type": "code",
   "execution_count": 11,
   "id": "683441d7",
   "metadata": {},
   "outputs": [],
   "source": [
    "def save_show(df, name, order):\n",
    "    save_report(df, name, order)\n",
    "    read_show(name)"
   ]
  },
  {
   "cell_type": "markdown",
   "id": "13fc88ec",
   "metadata": {},
   "source": [
    "## 1. Витрина продаж по продуктам"
   ]
  },
  {
   "cell_type": "markdown",
   "id": "cbb95317",
   "metadata": {},
   "source": [
    "### Топ-10 самых продаваемых продуктов"
   ]
  },
  {
   "cell_type": "code",
   "execution_count": 12,
   "id": "b631d995",
   "metadata": {},
   "outputs": [],
   "source": [
    "top_products = f_sales \\\n",
    "    .join(d_product, f_sales.sale_product_id == d_product.product_id) \\\n",
    "    .groupBy(\n",
    "        \"product_id\",\n",
    "    ) \\\n",
    "    .agg(\n",
    "        sum(\"sale_quantity\").alias(\"total_quantity_sold\"),\n",
    "        sum(\"sale_total_price\").alias(\"total_revenue\")\n",
    "    ) \\\n",
    "    .orderBy(desc(\"total_revenue\")) \\\n",
    "    .limit(10)"
   ]
  },
  {
   "cell_type": "code",
   "execution_count": 13,
   "id": "6370be77",
   "metadata": {},
   "outputs": [
    {
     "name": "stderr",
     "output_type": "stream",
     "text": [
      "25/05/25 19:18:10 WARN ClickHouseConnectionImpl: [JDBC Compliant Mode] Transaction is not supported. You may change jdbcCompliant to false to throw SQLException instead.\n",
      "25/05/25 19:18:10 WARN ClickHouseConnectionImpl: [JDBC Compliant Mode] Transaction is not supported. You may change jdbcCompliant to false to throw SQLException instead.\n",
      "25/05/25 19:18:10 WARN ClickHouseConnectionImpl: [JDBC Compliant Mode] Transaction [91e908a8-7ec1-408c-9df7-b6ad1ba5273a] (2 queries & 0 savepoints) is committed.\n",
      "25/05/25 19:18:10 WARN ClickHouseConnectionImpl: [JDBC Compliant Mode] Transaction [0e7e4ff6-524a-423e-a115-417b8b660816] (0 queries & 0 savepoints) is committed.\n"
     ]
    },
    {
     "name": "stdout",
     "output_type": "stream",
     "text": [
      "+----------+-------------------+--------------------+\n",
      "|product_id|total_quantity_sold|       total_revenue|\n",
      "+----------+-------------------+--------------------+\n",
      "|       124|                  4|499.6900000000000...|\n",
      "|       126|                  9|499.6200000000000...|\n",
      "|       383|                 10|499.7300000000000...|\n",
      "|      2481|                  8|499.7600000000000...|\n",
      "|      2810|                  2|499.7600000000000...|\n",
      "|      3826|                  7|499.8500000000000...|\n",
      "|      5001|                  8|499.7100000000000...|\n",
      "|      5523|                  9|499.8000000000000...|\n",
      "|      7488|                 10|499.5900000000000...|\n",
      "|      9481|                  3|499.6200000000000...|\n",
      "+----------+-------------------+--------------------+\n",
      "\n"
     ]
    }
   ],
   "source": [
    "save_show(top_products, \"1_top10products\", \"product_id\")"
   ]
  },
  {
   "cell_type": "markdown",
   "id": "ec60e8ed",
   "metadata": {},
   "source": [
    "### Общая выручка по категориям продуктов"
   ]
  },
  {
   "cell_type": "code",
   "execution_count": 14,
   "id": "3635800b",
   "metadata": {},
   "outputs": [],
   "source": [
    "revenue_by_category = f_sales \\\n",
    "    .join(d_product, f_sales.sale_product_id == d_product.product_id) \\\n",
    "    .groupBy(\n",
    "        \"product_category\",\n",
    "        \"pet_category\"\n",
    "    ) \\\n",
    "    .agg(\n",
    "        sum(\"sale_total_price\").alias(\"total_revenue\")\n",
    "    ) \\\n",
    "    .orderBy(desc(\"total_revenue\"))"
   ]
  },
  {
   "cell_type": "code",
   "execution_count": 15,
   "id": "90d99b82",
   "metadata": {},
   "outputs": [
    {
     "name": "stderr",
     "output_type": "stream",
     "text": [
      "25/05/25 19:18:12 WARN ClickHouseConnectionImpl: [JDBC Compliant Mode] Transaction is not supported. You may change jdbcCompliant to false to throw SQLException instead.\n",
      "25/05/25 19:18:12 WARN ClickHouseConnectionImpl: [JDBC Compliant Mode] Transaction is not supported. You may change jdbcCompliant to false to throw SQLException instead.\n",
      "25/05/25 19:18:12 WARN ClickHouseConnectionImpl: [JDBC Compliant Mode] Transaction [752dca19-9b8e-489e-b8c1-0a4cedce617b] (2 queries & 0 savepoints) is committed.\n",
      "25/05/25 19:18:12 WARN ClickHouseConnectionImpl: [JDBC Compliant Mode] Transaction [8cebe1e8-c40b-4a43-bfbf-712a7583e61c] (0 queries & 0 savepoints) is committed.\n"
     ]
    },
    {
     "name": "stdout",
     "output_type": "stream",
     "text": [
      "+----------------+------------+--------------------+\n",
      "|product_category|pet_category|       total_revenue|\n",
      "+----------------+------------+--------------------+\n",
      "|            Cage|       Birds|181830.9300000000...|\n",
      "|            Cage|    Reptiles|172473.9200000000...|\n",
      "|            Cage|        Dogs|166057.7100000000...|\n",
      "|            Cage|        Fish|158665.9600000000...|\n",
      "|            Cage|        Cats|152089.4200000000...|\n",
      "|            Food|       Birds|177085.2300000000...|\n",
      "|            Food|        Fish|170664.5800000000...|\n",
      "|            Food|        Cats|165220.8100000000...|\n",
      "|            Food|        Dogs|162632.2800000000...|\n",
      "|            Food|    Reptiles|155029.6500000000...|\n",
      "|             Toy|        Dogs|182909.8500000000...|\n",
      "|             Toy|        Fish|181426.5000000000...|\n",
      "|             Toy|       Birds|176069.2100000000...|\n",
      "|             Toy|        Cats|163869.8900000000...|\n",
      "|             Toy|    Reptiles|163826.1800000000...|\n",
      "+----------------+------------+--------------------+\n",
      "\n"
     ]
    }
   ],
   "source": [
    "save_show(revenue_by_category, \"1_bycategory\", \"product_category\")"
   ]
  },
  {
   "cell_type": "markdown",
   "id": "c0901933",
   "metadata": {},
   "source": [
    "### Средний рейтинг и количество отзывов для каждого продукта"
   ]
  },
  {
   "cell_type": "code",
   "execution_count": 16,
   "id": "bb194af9",
   "metadata": {},
   "outputs": [],
   "source": [
    "product_ratings = d_product.select(\n",
    "    \"product_id\",\n",
    "    \"product_rating\",\n",
    "    \"product_reviews\"\n",
    ")"
   ]
  },
  {
   "cell_type": "code",
   "execution_count": 17,
   "id": "a718fe3a",
   "metadata": {},
   "outputs": [
    {
     "name": "stderr",
     "output_type": "stream",
     "text": [
      "25/05/25 19:18:12 WARN ClickHouseConnectionImpl: [JDBC Compliant Mode] Transaction is not supported. You may change jdbcCompliant to false to throw SQLException instead.\n",
      "25/05/25 19:18:12 WARN ClickHouseConnectionImpl: [JDBC Compliant Mode] Transaction is not supported. You may change jdbcCompliant to false to throw SQLException instead.\n",
      "25/05/25 19:18:12 WARN ClickHouseConnectionImpl: [JDBC Compliant Mode] Transaction [bf76de60-a1c8-4249-a452-f08069d1328a] (11 queries & 0 savepoints) is committed.\n",
      "25/05/25 19:18:12 WARN ClickHouseConnectionImpl: [JDBC Compliant Mode] Transaction [6698460d-dd2f-4094-b5a7-3c0411dce765] (0 queries & 0 savepoints) is committed.\n"
     ]
    },
    {
     "name": "stdout",
     "output_type": "stream",
     "text": [
      "+----------+--------------------+---------------+\n",
      "|product_id|      product_rating|product_reviews|\n",
      "+----------+--------------------+---------------+\n",
      "|      8996|2.500000000000000000|            660|\n",
      "|      8997|1.200000000000000000|            974|\n",
      "|      8998|2.500000000000000000|            733|\n",
      "|      8999|4.900000000000000000|            228|\n",
      "|      9000|3.800000000000000000|            307|\n",
      "|      9001|3.000000000000000000|            539|\n",
      "|      9002|1.800000000000000000|            261|\n",
      "|      9003|4.500000000000000000|            983|\n",
      "|      9004|1.100000000000000000|            369|\n",
      "|      9005|4.000000000000000000|            110|\n",
      "|      9006|2.400000000000000000|            698|\n",
      "|      9007|2.600000000000000000|            999|\n",
      "|      9008|3.300000000000000000|             36|\n",
      "|      9009|4.600000000000000000|            685|\n",
      "|      9010|3.300000000000000000|            691|\n",
      "|      9011|4.100000000000000000|            646|\n",
      "|      9012|2.400000000000000000|            226|\n",
      "|      9013|3.700000000000000000|            461|\n",
      "|      9014|1.100000000000000000|            296|\n",
      "|      9015|2.800000000000000000|            573|\n",
      "+----------+--------------------+---------------+\n",
      "only showing top 20 rows\n"
     ]
    }
   ],
   "source": [
    "save_show(product_ratings, \"1_ratings\", \"product_id\")"
   ]
  },
  {
   "cell_type": "markdown",
   "id": "602a0a07",
   "metadata": {},
   "source": [
    "## 2. Витрина продаж по клиентам"
   ]
  },
  {
   "cell_type": "markdown",
   "id": "f73dbc57",
   "metadata": {},
   "source": [
    "### Топ-10 клиентов с наибольшей общей суммой покупок"
   ]
  },
  {
   "cell_type": "code",
   "execution_count": 18,
   "id": "77923d16",
   "metadata": {},
   "outputs": [],
   "source": [
    "top_customers = f_sales \\\n",
    "    .join(d_customer, f_sales.sale_customer_id == d_customer.customer_id) \\\n",
    "    .groupBy(\n",
    "        \"customer_id\",\n",
    "    ) \\\n",
    "    .agg(\n",
    "        sum(\"sale_total_price\").alias(\"total_spent\")\n",
    "    ) \\\n",
    "    .orderBy(desc(\"total_spent\")) \\\n",
    "    .limit(10)"
   ]
  },
  {
   "cell_type": "code",
   "execution_count": 19,
   "id": "8bedc405",
   "metadata": {},
   "outputs": [
    {
     "name": "stdout",
     "output_type": "stream",
     "text": [
      "+-----------+--------------------+\n",
      "|customer_id|         total_spent|\n",
      "+-----------+--------------------+\n",
      "|       1494|499.8000000000000...|\n",
      "|       1527|499.6900000000000...|\n",
      "|       1795|499.7300000000000...|\n",
      "|       4466|499.7600000000000...|\n",
      "|       4470|499.6200000000000...|\n",
      "|       4508|499.5900000000000...|\n",
      "|       5982|499.7100000000000...|\n",
      "|       5991|499.6200000000000...|\n",
      "|       6885|499.8500000000000...|\n",
      "|       7992|499.7600000000000...|\n",
      "+-----------+--------------------+\n",
      "\n"
     ]
    },
    {
     "name": "stderr",
     "output_type": "stream",
     "text": [
      "25/05/25 19:18:13 WARN ClickHouseConnectionImpl: [JDBC Compliant Mode] Transaction is not supported. You may change jdbcCompliant to false to throw SQLException instead.\n",
      "25/05/25 19:18:13 WARN ClickHouseConnectionImpl: [JDBC Compliant Mode] Transaction is not supported. You may change jdbcCompliant to false to throw SQLException instead.\n",
      "25/05/25 19:18:13 WARN ClickHouseConnectionImpl: [JDBC Compliant Mode] Transaction [7696dd62-a283-472f-b99d-3d433cff0825] (2 queries & 0 savepoints) is committed.\n",
      "25/05/25 19:18:13 WARN ClickHouseConnectionImpl: [JDBC Compliant Mode] Transaction [b4a608c4-4f90-40c3-8048-4b098bbe4bac] (0 queries & 0 savepoints) is committed.\n"
     ]
    }
   ],
   "source": [
    "save_show(top_customers, \"2_top10customers\", \"customer_id\")"
   ]
  },
  {
   "cell_type": "markdown",
   "id": "95fcd081",
   "metadata": {},
   "source": [
    "### Распределение клиентов по странам"
   ]
  },
  {
   "cell_type": "code",
   "execution_count": 20,
   "id": "c459ef10",
   "metadata": {},
   "outputs": [],
   "source": [
    "customers_by_country = f_sales \\\n",
    "    .join(d_customer, f_sales.sale_customer_id == d_customer.customer_id) \\\n",
    "    .groupBy(\"customer_country\") \\\n",
    "    .agg(\n",
    "        count(\"customer_id\").alias(\"customer_count\")\n",
    "    )"
   ]
  },
  {
   "cell_type": "code",
   "execution_count": 21,
   "id": "7ce94dae",
   "metadata": {},
   "outputs": [
    {
     "name": "stderr",
     "output_type": "stream",
     "text": [
      "25/05/25 19:18:14 WARN ClickHouseConnectionImpl: [JDBC Compliant Mode] Transaction is not supported. You may change jdbcCompliant to false to throw SQLException instead.\n",
      "25/05/25 19:18:14 WARN ClickHouseConnectionImpl: [JDBC Compliant Mode] Transaction is not supported. You may change jdbcCompliant to false to throw SQLException instead.\n",
      "25/05/25 19:18:14 WARN ClickHouseConnectionImpl: [JDBC Compliant Mode] Transaction [38afd24c-1878-46fa-a795-8ecef6bf811f] (2 queries & 0 savepoints) is committed.\n",
      "25/05/25 19:18:14 WARN ClickHouseConnectionImpl: [JDBC Compliant Mode] Transaction [89f646a2-0f25-4d9d-95ce-556e35e9315c] (0 queries & 0 savepoints) is committed.\n"
     ]
    },
    {
     "name": "stdout",
     "output_type": "stream",
     "text": [
      "+-------------------+--------------+\n",
      "|   customer_country|customer_count|\n",
      "+-------------------+--------------+\n",
      "|        Afghanistan|            31|\n",
      "|      Aland Islands|             2|\n",
      "|            Albania|            46|\n",
      "|     American Samoa|             3|\n",
      "|            Andorra|             2|\n",
      "|             Angola|             6|\n",
      "|Antigua and Barbuda|             3|\n",
      "|          Argentina|           113|\n",
      "|            Armenia|            34|\n",
      "|          Australia|             3|\n",
      "|            Austria|             6|\n",
      "|         Azerbaijan|            21|\n",
      "|            Bahamas|             6|\n",
      "|            Bahrain|             3|\n",
      "|         Bangladesh|            17|\n",
      "|           Barbados|             1|\n",
      "|            Belarus|            30|\n",
      "|            Belgium|             5|\n",
      "|             Belize|             1|\n",
      "|              Benin|             4|\n",
      "+-------------------+--------------+\n",
      "only showing top 20 rows\n"
     ]
    }
   ],
   "source": [
    "save_show(customers_by_country, \"2_contryspread\", \"customer_country\")"
   ]
  },
  {
   "cell_type": "markdown",
   "id": "75f6c072",
   "metadata": {},
   "source": [
    "### Средний чек для каждого клиента"
   ]
  },
  {
   "cell_type": "code",
   "execution_count": 22,
   "id": "e3fa3082",
   "metadata": {},
   "outputs": [],
   "source": [
    "customer_avg_check = f_sales \\\n",
    "    .join(d_customer, f_sales.sale_customer_id == d_customer.customer_id) \\\n",
    "    .groupBy(\n",
    "        \"customer_id\",\n",
    "    ) \\\n",
    "    .agg(\n",
    "        (sum(\"sale_total_price\") / count(\"sale_id\")).alias(\"avg_price\"),\n",
    "        avg(\"sale_quantity\").alias(\"avg_items_count\")\n",
    "    )"
   ]
  },
  {
   "cell_type": "code",
   "execution_count": 23,
   "id": "94ee4b61",
   "metadata": {},
   "outputs": [
    {
     "name": "stderr",
     "output_type": "stream",
     "text": [
      "25/05/25 19:18:15 WARN ClickHouseConnectionImpl: [JDBC Compliant Mode] Transaction is not supported. You may change jdbcCompliant to false to throw SQLException instead.\n",
      "25/05/25 19:18:15 WARN ClickHouseConnectionImpl: [JDBC Compliant Mode] Transaction is not supported. You may change jdbcCompliant to false to throw SQLException instead.\n",
      "25/05/25 19:18:15 WARN ClickHouseConnectionImpl: [JDBC Compliant Mode] Transaction [9b2e6e2d-32dd-42b1-b17e-2d24a2b14def] (11 queries & 0 savepoints) is committed.\n",
      "25/05/25 19:18:15 WARN ClickHouseConnectionImpl: [JDBC Compliant Mode] Transaction [a015a0bf-20ef-4fda-ba5b-7d103d824e86] (0 queries & 0 savepoints) is committed.\n"
     ]
    },
    {
     "name": "stdout",
     "output_type": "stream",
     "text": [
      "+-----------+--------------------+---------------+\n",
      "|customer_id|           avg_price|avg_items_count|\n",
      "+-----------+--------------------+---------------+\n",
      "|         21|224.5900000000000...|            6.0|\n",
      "|         29|70.07000000000000...|            2.0|\n",
      "|         32|46.50000000000000...|            6.0|\n",
      "|         56|439.7500000000000...|            3.0|\n",
      "|         60|238.9100000000000...|           10.0|\n",
      "|         75|491.3400000000000...|            8.0|\n",
      "|         90|379.9200000000000...|            3.0|\n",
      "|         95|221.3900000000000...|            2.0|\n",
      "|         98|238.9100000000000...|            8.0|\n",
      "|        109|88.86000000000000...|            3.0|\n",
      "|        141|110.0000000000000...|            7.0|\n",
      "|        143|468.2200000000000...|           10.0|\n",
      "|        145|181.6600000000000...|            4.0|\n",
      "|        151|182.1000000000000...|            1.0|\n",
      "|        195|229.6400000000000...|            6.0|\n",
      "|        200|271.6200000000000...|            2.0|\n",
      "|        203|325.0600000000000...|            4.0|\n",
      "|        213|235.3600000000000...|            7.0|\n",
      "|        214|217.3800000000000...|            9.0|\n",
      "|        219|295.4900000000000...|            5.0|\n",
      "+-----------+--------------------+---------------+\n",
      "only showing top 20 rows\n"
     ]
    }
   ],
   "source": [
    "save_show(customer_avg_check, \"2_customeravgcheck\", \"customer_id\")"
   ]
  },
  {
   "cell_type": "markdown",
   "id": "f46d304f",
   "metadata": {},
   "source": [
    "## 3. Витрина продаж по времени"
   ]
  },
  {
   "cell_type": "markdown",
   "id": "5ee7a098",
   "metadata": {},
   "source": [
    "### Месячные и годовые тренды продаж + Сравнение выручки за разные периоды"
   ]
  },
  {
   "cell_type": "code",
   "execution_count": 24,
   "id": "54dc05ff",
   "metadata": {},
   "outputs": [],
   "source": [
    "sales_trends = f_sales \\\n",
    "    .withColumn(\"year\", year(\"sale_date\")) \\\n",
    "    .withColumn(\"month\", month(\"sale_date\")) \\\n",
    "    .groupBy(\"year\", \"month\") \\\n",
    "    .agg(\n",
    "        sum(\"sale_total_price\").alias(\"monthly_revenue\"),\n",
    "        count(\"sale_id\").alias(\"order_count\"),\n",
    "        sum(\"sale_quantity\").alias(\"total_items_sold\"),\n",
    "        (sum(\"sale_total_price\") / count(\"sale_id\")).alias(\"avg_order_value\"),\n",
    "        approx_count_distinct(\"sale_customer_id\").alias(\"unique_customers\")\n",
    "    ) \\\n",
    "    .orderBy(\"year\", \"month\")"
   ]
  },
  {
   "cell_type": "code",
   "execution_count": 25,
   "id": "a9cd950a",
   "metadata": {},
   "outputs": [
    {
     "name": "stderr",
     "output_type": "stream",
     "text": [
      "25/05/25 19:18:15 WARN SparkStringUtils: Truncated the string representation of a plan since it was too large. This behavior can be adjusted by setting 'spark.sql.debug.maxToStringFields'.\n",
      "25/05/25 19:18:16 WARN ClickHouseConnectionImpl: [JDBC Compliant Mode] Transaction is not supported. You may change jdbcCompliant to false to throw SQLException instead.\n",
      "25/05/25 19:18:16 WARN ClickHouseConnectionImpl: [JDBC Compliant Mode] Transaction is not supported. You may change jdbcCompliant to false to throw SQLException instead.\n",
      "25/05/25 19:18:16 WARN ClickHouseConnectionImpl: [JDBC Compliant Mode] Transaction [8ffea3b0-5d10-4628-ae7f-8cd189184505] (2 queries & 0 savepoints) is committed.\n",
      "25/05/25 19:18:16 WARN ClickHouseConnectionImpl: [JDBC Compliant Mode] Transaction [770ba917-65a3-4b8f-98aa-8564cce5fc50] (0 queries & 0 savepoints) is committed.\n"
     ]
    },
    {
     "name": "stdout",
     "output_type": "stream",
     "text": [
      "+----+-----+--------------------+-----------+----------------+--------------------+----------------+\n",
      "|year|month|     monthly_revenue|order_count|total_items_sold|     avg_order_value|unique_customers|\n",
      "+----+-----+--------------------+-----------+----------------+--------------------+----------------+\n",
      "|2010|    1|203842.2000000000...|        807|            4478|252.5925650557620...|             802|\n",
      "|2011|    1|197096.2200000000...|        775|            4171|254.3177032258064...|             811|\n",
      "|2012|    1|202942.4800000000...|        800|            4534|253.6781000000000...|             821|\n",
      "|2013|    1|199344.9800000000...|        788|            4257|252.9758629441624...|             765|\n",
      "|2014|    1|191980.7200000000...|        773|            4277|248.3579818887451...|             765|\n",
      "|2015|    1|197908.7900000000...|        760|            4043|260.4063026315789...|             734|\n",
      "|2016|    1|192888.2600000000...|        766|            4213|251.8123498694516...|             774|\n",
      "|2017|    1|194570.9800000000...|        767|            4212|253.6779400260756...|             774|\n",
      "|2018|    1|207965.9400000000...|        805|            4280|258.3427826086956...|             816|\n",
      "|2019|    1|177949.1500000000...|        721|            3928|246.8088072122052...|             671|\n",
      "|2020|    1|181969.5500000000...|        726|            3932|250.6467630853994...|             765|\n",
      "|2021|    1|196211.5500000000...|        786|            4316|249.6330152671755...|             756|\n",
      "|2022|    1|185181.3000000000...|        726|            3982|255.0706611570247...|             734|\n",
      "+----+-----+--------------------+-----------+----------------+--------------------+----------------+\n",
      "\n"
     ]
    }
   ],
   "source": [
    "save_show(sales_trends, \"3_salestrends\", \"year, month\")"
   ]
  },
  {
   "cell_type": "markdown",
   "id": "a50a2e8e",
   "metadata": {},
   "source": [
    "### Средний размер заказа по месяцам"
   ]
  },
  {
   "cell_type": "code",
   "execution_count": 26,
   "id": "2b09d9bc",
   "metadata": {},
   "outputs": [],
   "source": [
    "avg_order_size = f_sales \\\n",
    "    .withColumn(\"year_month\", date_format(\"sale_date\", \"yyyy-MM\")) \\\n",
    "    .groupBy(\"year_month\") \\\n",
    "    .agg(\n",
    "        avg(\"sale_quantity\").alias(\"avg_order_size\"),\n",
    "         avg(\"sale_total_price\").alias(\"avg_order_price\")\n",
    "    ) \\\n",
    "    .orderBy(\"year_month\")"
   ]
  },
  {
   "cell_type": "code",
   "execution_count": 27,
   "id": "695bc276",
   "metadata": {},
   "outputs": [
    {
     "name": "stderr",
     "output_type": "stream",
     "text": [
      "25/05/25 19:18:17 WARN ClickHouseConnectionImpl: [JDBC Compliant Mode] Transaction is not supported. You may change jdbcCompliant to false to throw SQLException instead.\n",
      "25/05/25 19:18:17 WARN ClickHouseConnectionImpl: [JDBC Compliant Mode] Transaction is not supported. You may change jdbcCompliant to false to throw SQLException instead.\n",
      "25/05/25 19:18:17 WARN ClickHouseConnectionImpl: [JDBC Compliant Mode] Transaction [1ac7f863-6b8e-48a2-958c-473c4cea3417] (2 queries & 0 savepoints) is committed.\n",
      "25/05/25 19:18:17 WARN ClickHouseConnectionImpl: [JDBC Compliant Mode] Transaction [42fd2761-92f1-4e49-a6c7-85f813ce775e] (0 queries & 0 savepoints) is committed.\n"
     ]
    },
    {
     "name": "stdout",
     "output_type": "stream",
     "text": [
      "+----------+------------------+--------------------+\n",
      "|year_month|    avg_order_size|     avg_order_price|\n",
      "+----------+------------------+--------------------+\n",
      "|   2010-01| 5.548946716232962|252.5925650557620...|\n",
      "|   2011-01| 5.381935483870968|254.3177032258064...|\n",
      "|   2012-01|            5.6675|253.6781000000000...|\n",
      "|   2013-01| 5.402284263959391|252.9758629441624...|\n",
      "|   2014-01| 5.532988357050453|248.3579818887451...|\n",
      "|   2015-01|5.3197368421052635|260.4063026315789...|\n",
      "|   2016-01|               5.5|251.8123498694516...|\n",
      "|   2017-01| 5.491525423728813|253.6779400260756...|\n",
      "|   2018-01| 5.316770186335404|258.3427826086956...|\n",
      "|   2019-01| 5.447988904299584|246.8088072122052...|\n",
      "|   2020-01| 5.415977961432507|250.6467630853994...|\n",
      "|   2021-01|5.4910941475826975|249.6330152671755...|\n",
      "|   2022-01| 5.484848484848484|255.0706611570247...|\n",
      "+----------+------------------+--------------------+\n",
      "\n"
     ]
    }
   ],
   "source": [
    "save_show(avg_order_size, \"3_avgordersize\", \"year_month\")"
   ]
  },
  {
   "cell_type": "markdown",
   "id": "b61db5d9",
   "metadata": {},
   "source": [
    "## 4. Витрина продаж по магазинам"
   ]
  },
  {
   "cell_type": "markdown",
   "id": "5b72ffa0",
   "metadata": {},
   "source": [
    "### Топ-5 магазинов с наибольшей выручкой"
   ]
  },
  {
   "cell_type": "code",
   "execution_count": 28,
   "id": "951c19d2",
   "metadata": {},
   "outputs": [],
   "source": [
    "top_stores = f_sales \\\n",
    "    .join(d_store, f_sales.sale_store_id == d_store.store_id) \\\n",
    "    .groupBy(\n",
    "        \"store_id\"\n",
    "    ) \\\n",
    "    .agg(\n",
    "        sum(\"sale_total_price\").alias(\"total_revenue\")\n",
    "    ) \\\n",
    "    .orderBy(desc(\"total_revenue\")) \\\n",
    "    .limit(5)"
   ]
  },
  {
   "cell_type": "code",
   "execution_count": 29,
   "id": "80a3754f",
   "metadata": {},
   "outputs": [
    {
     "name": "stderr",
     "output_type": "stream",
     "text": [
      "25/05/25 19:18:18 WARN ClickHouseConnectionImpl: [JDBC Compliant Mode] Transaction is not supported. You may change jdbcCompliant to false to throw SQLException instead.\n",
      "25/05/25 19:18:18 WARN ClickHouseConnectionImpl: [JDBC Compliant Mode] Transaction is not supported. You may change jdbcCompliant to false to throw SQLException instead.\n",
      "25/05/25 19:18:18 WARN ClickHouseConnectionImpl: [JDBC Compliant Mode] Transaction [fbca9742-db40-48b6-8499-b8cae95cb0ea] (2 queries & 0 savepoints) is committed.\n",
      "25/05/25 19:18:18 WARN ClickHouseConnectionImpl: [JDBC Compliant Mode] Transaction [41e2327e-905b-47e2-9434-5ee291d63e72] (0 queries & 0 savepoints) is committed.\n"
     ]
    },
    {
     "name": "stdout",
     "output_type": "stream",
     "text": [
      "+--------+--------------------+\n",
      "|store_id|       total_revenue|\n",
      "+--------+--------------------+\n",
      "|    2136|499.7600000000000...|\n",
      "|    3268|499.8000000000000...|\n",
      "|    4337|499.7600000000000...|\n",
      "|    4590|499.7300000000000...|\n",
      "|    6004|499.8500000000000...|\n",
      "+--------+--------------------+\n",
      "\n"
     ]
    }
   ],
   "source": [
    "save_show(top_stores, \"4_topstores\", \"store_id\")"
   ]
  },
  {
   "cell_type": "markdown",
   "id": "aa0f037f",
   "metadata": {},
   "source": [
    "### Распределение продаж по городам и странам"
   ]
  },
  {
   "cell_type": "code",
   "execution_count": 30,
   "id": "ae2f3db4",
   "metadata": {},
   "outputs": [],
   "source": [
    "sales_by_countries = f_sales \\\n",
    "    .join(d_customer, f_sales.sale_customer_id == d_customer.customer_id) \\\n",
    "    .groupBy(d_customer.customer_country) \\\n",
    "    .agg(\n",
    "        sum(\"sale_total_price\").alias(\"total_revenue\"),\n",
    "        sum(\"sale_quantity\").alias(\"total_items_sold\")\n",
    "    ) \\\n",
    "    .orderBy(desc(\"total_revenue\"))"
   ]
  },
  {
   "cell_type": "code",
   "execution_count": 31,
   "id": "dd0c00e5",
   "metadata": {},
   "outputs": [
    {
     "name": "stdout",
     "output_type": "stream",
     "text": [
      "+-------------------+--------------------+----------------+\n",
      "|   customer_country|       total_revenue|total_items_sold|\n",
      "+-------------------+--------------------+----------------+\n",
      "|        Afghanistan|8532.720000000000...|             171|\n",
      "|      Aland Islands|571.4600000000000...|               7|\n",
      "|            Albania|11821.24000000000...|             227|\n",
      "|     American Samoa|385.7500000000000...|              22|\n",
      "|            Andorra|579.8500000000000...|              15|\n",
      "|             Angola|1914.940000000000...|              30|\n",
      "|Antigua and Barbuda|775.3700000000000...|              19|\n",
      "|          Argentina|26739.31000000000...|             614|\n",
      "|            Armenia|8847.560000000000...|             185|\n",
      "|          Australia|726.0700000000000...|              19|\n",
      "|            Austria|1441.180000000000...|              39|\n",
      "|         Azerbaijan|5853.520000000000...|             126|\n",
      "|            Bahamas|1658.530000000000...|              26|\n",
      "|            Bahrain|596.4100000000000...|              23|\n",
      "|         Bangladesh|4738.170000000000...|              74|\n",
      "|           Barbados|37.32000000000000...|               4|\n",
      "|            Belarus|8266.770000000000...|             162|\n",
      "|            Belgium|1283.790000000000...|              29|\n",
      "|             Belize|476.5100000000000...|               8|\n",
      "|              Benin|900.5400000000000...|              24|\n",
      "+-------------------+--------------------+----------------+\n",
      "only showing top 20 rows\n"
     ]
    },
    {
     "name": "stderr",
     "output_type": "stream",
     "text": [
      "25/05/25 19:18:18 WARN ClickHouseConnectionImpl: [JDBC Compliant Mode] Transaction is not supported. You may change jdbcCompliant to false to throw SQLException instead.\n",
      "25/05/25 19:18:18 WARN ClickHouseConnectionImpl: [JDBC Compliant Mode] Transaction is not supported. You may change jdbcCompliant to false to throw SQLException instead.\n",
      "25/05/25 19:18:18 WARN ClickHouseConnectionImpl: [JDBC Compliant Mode] Transaction [f262a3bb-4113-476c-83a5-482760277cd7] (2 queries & 0 savepoints) is committed.\n",
      "25/05/25 19:18:18 WARN ClickHouseConnectionImpl: [JDBC Compliant Mode] Transaction [ed57404a-ca9e-4003-afdd-567aae46542a] (0 queries & 0 savepoints) is committed.\n"
     ]
    }
   ],
   "source": [
    "save_show(sales_by_countries, \"4_salesbycountries\", \"customer_country\")"
   ]
  },
  {
   "cell_type": "markdown",
   "id": "7a4ca066",
   "metadata": {},
   "source": [
    "### Средний чек для каждого магазина"
   ]
  },
  {
   "cell_type": "code",
   "execution_count": 32,
   "id": "113a22c3",
   "metadata": {},
   "outputs": [],
   "source": [
    "avg_store_check = f_sales \\\n",
    "    .join(d_store, f_sales.sale_store_id == d_store.store_id) \\\n",
    "    .groupBy(\"store_id\") \\\n",
    "    .agg(\n",
    "        avg(\"sale_total_price\").alias(\"avg_check_price\"),\n",
    "        avg(\"sale_quantity\").alias(\"avg_items_sold\")\n",
    "    )"
   ]
  },
  {
   "cell_type": "code",
   "execution_count": 33,
   "id": "3e485fe7",
   "metadata": {},
   "outputs": [
    {
     "name": "stderr",
     "output_type": "stream",
     "text": [
      "25/05/25 19:18:19 WARN ClickHouseConnectionImpl: [JDBC Compliant Mode] Transaction is not supported. You may change jdbcCompliant to false to throw SQLException instead.\n",
      "25/05/25 19:18:19 WARN ClickHouseConnectionImpl: [JDBC Compliant Mode] Transaction is not supported. You may change jdbcCompliant to false to throw SQLException instead.\n",
      "25/05/25 19:18:19 WARN ClickHouseConnectionImpl: [JDBC Compliant Mode] Transaction [ab203e17-4e30-4f04-853b-86a50a918efc] (11 queries & 0 savepoints) is committed.\n",
      "25/05/25 19:18:19 WARN ClickHouseConnectionImpl: [JDBC Compliant Mode] Transaction [dfb35be4-560b-4ca4-ba8f-d72319d3b1e9] (0 queries & 0 savepoints) is committed.\n"
     ]
    },
    {
     "name": "stdout",
     "output_type": "stream",
     "text": [
      "+--------+--------------------+--------------+\n",
      "|store_id|     avg_check_price|avg_items_sold|\n",
      "+--------+--------------------+--------------+\n",
      "|      18|234.7500000000000...|           1.0|\n",
      "|      30|138.2800000000000...|           2.0|\n",
      "|      36|492.2300000000000...|           7.0|\n",
      "|      46|408.3200000000000...|           6.0|\n",
      "|      66|419.1000000000000...|           1.0|\n",
      "|      67|450.1700000000000...|           3.0|\n",
      "|      74|157.4300000000000...|           3.0|\n",
      "|      89|253.0100000000000...|           7.0|\n",
      "|      99|253.9800000000000...|          10.0|\n",
      "|     104|274.9100000000000...|           9.0|\n",
      "|     124|465.7700000000000...|           5.0|\n",
      "|     134|438.0400000000000...|           8.0|\n",
      "|     138|51.98000000000000...|           7.0|\n",
      "|     144|69.73000000000000...|           7.0|\n",
      "|     153|465.9700000000000...|           8.0|\n",
      "|     172|480.4600000000000...|           1.0|\n",
      "|     174|314.8800000000000...|          10.0|\n",
      "|     180|361.2700000000000...|           1.0|\n",
      "|     184|321.0600000000000...|           7.0|\n",
      "|     186|388.6400000000000...|           2.0|\n",
      "+--------+--------------------+--------------+\n",
      "only showing top 20 rows\n"
     ]
    }
   ],
   "source": [
    "save_show(avg_store_check, \"4_avgstorecheck\", \"store_id\")"
   ]
  },
  {
   "cell_type": "markdown",
   "id": "28ef5541",
   "metadata": {},
   "source": [
    "## 5. Витрина продаж по поставщикам"
   ]
  },
  {
   "cell_type": "markdown",
   "id": "19285730",
   "metadata": {},
   "source": [
    "### Топ-5 поставщиков с наибольшей выручкой"
   ]
  },
  {
   "cell_type": "code",
   "execution_count": 34,
   "id": "3ba7f3f3",
   "metadata": {},
   "outputs": [],
   "source": [
    "supplier_revenue = f_sales \\\n",
    "    .join(d_product, f_sales.sale_product_id == d_product.product_id) \\\n",
    "    .join(d_supplier, d_product.supplier_id == d_supplier.supplier_id) \\\n",
    "    .groupBy(\n",
    "        d_supplier.supplier_id\n",
    "    ) \\\n",
    "    .agg(\n",
    "        sum(\"sale_total_price\").alias(\"total_revenue\")\n",
    "    ) \\\n",
    "    .orderBy(desc(\"total_revenue\")) \\\n",
    "    .limit(5)"
   ]
  },
  {
   "cell_type": "code",
   "execution_count": 35,
   "id": "dd8f8240",
   "metadata": {},
   "outputs": [
    {
     "name": "stdout",
     "output_type": "stream",
     "text": [
      "+-----------+--------------------+\n",
      "|supplier_id|       total_revenue|\n",
      "+-----------+--------------------+\n",
      "|        718|499.7600000000000...|\n",
      "|        796|499.7600000000000...|\n",
      "|       1577|499.8000000000000...|\n",
      "|       5598|499.7300000000000...|\n",
      "|       6266|499.8500000000000...|\n",
      "+-----------+--------------------+\n",
      "\n"
     ]
    },
    {
     "name": "stderr",
     "output_type": "stream",
     "text": [
      "25/05/25 19:18:20 WARN ClickHouseConnectionImpl: [JDBC Compliant Mode] Transaction is not supported. You may change jdbcCompliant to false to throw SQLException instead.\n",
      "25/05/25 19:18:20 WARN ClickHouseConnectionImpl: [JDBC Compliant Mode] Transaction is not supported. You may change jdbcCompliant to false to throw SQLException instead.\n",
      "25/05/25 19:18:20 WARN ClickHouseConnectionImpl: [JDBC Compliant Mode] Transaction [8354d714-003c-40b0-850e-a1238d2c76c9] (2 queries & 0 savepoints) is committed.\n",
      "25/05/25 19:18:20 WARN ClickHouseConnectionImpl: [JDBC Compliant Mode] Transaction [2466eb3d-6217-42f4-9b90-dff924dc2fb6] (0 queries & 0 savepoints) is committed.\n"
     ]
    }
   ],
   "source": [
    "save_show(supplier_revenue, \"5_top5suppliers\", \"supplier_id\")"
   ]
  },
  {
   "cell_type": "markdown",
   "id": "b2f980dd",
   "metadata": {},
   "source": [
    "### Средняя цена товаров от каждого поставщика"
   ]
  },
  {
   "cell_type": "code",
   "execution_count": 36,
   "id": "72832229",
   "metadata": {},
   "outputs": [],
   "source": [
    "supplier_avg_prices = d_product \\\n",
    "    .join(d_supplier, d_product.supplier_id == d_supplier.supplier_id) \\\n",
    "    .groupBy(\n",
    "        d_supplier.supplier_id\n",
    "    ) \\\n",
    "    .agg(\n",
    "        avg(\"product_price\").alias(\"avg_product_price\")\n",
    "    ) \\\n",
    "    .orderBy(desc(\"avg_product_price\"))"
   ]
  },
  {
   "cell_type": "code",
   "execution_count": 37,
   "id": "b0d20742",
   "metadata": {},
   "outputs": [
    {
     "name": "stderr",
     "output_type": "stream",
     "text": [
      "25/05/25 19:18:21 WARN ClickHouseConnectionImpl: [JDBC Compliant Mode] Transaction is not supported. You may change jdbcCompliant to false to throw SQLException instead.\n",
      "25/05/25 19:18:21 WARN ClickHouseConnectionImpl: [JDBC Compliant Mode] Transaction is not supported. You may change jdbcCompliant to false to throw SQLException instead.\n",
      "25/05/25 19:18:21 WARN ClickHouseConnectionImpl: [JDBC Compliant Mode] Transaction [3037b15b-ec7e-4a8a-8163-92b27ddb7841] (11 queries & 0 savepoints) is committed.\n",
      "25/05/25 19:18:21 WARN ClickHouseConnectionImpl: [JDBC Compliant Mode] Transaction [f2ba38fd-7ee3-4a25-a0b2-0a8e8ecf3cb3] (0 queries & 0 savepoints) is committed.\n"
     ]
    },
    {
     "name": "stdout",
     "output_type": "stream",
     "text": [
      "+-----------+--------------------+\n",
      "|supplier_id|   avg_product_price|\n",
      "+-----------+--------------------+\n",
      "|          4|40.54000000000000...|\n",
      "|          6|37.49000000000000...|\n",
      "|         11|34.73000000000000...|\n",
      "|         22|33.15000000000000...|\n",
      "|         39|40.69000000000000...|\n",
      "|         53|38.97000000000000...|\n",
      "|         71|34.09000000000000...|\n",
      "|         75|32.66000000000000...|\n",
      "|        106|38.62000000000000...|\n",
      "|        114|36.38000000000000...|\n",
      "|        129|38.58000000000000...|\n",
      "|        142|32.78000000000000...|\n",
      "|        145|40.24000000000000...|\n",
      "|        177|34.98000000000000...|\n",
      "|        196|36.98000000000000...|\n",
      "|        234|40.63000000000000...|\n",
      "|        240|31.70000000000000...|\n",
      "|        243|33.93000000000000...|\n",
      "|        248|32.87000000000000...|\n",
      "|        250|32.01000000000000...|\n",
      "+-----------+--------------------+\n",
      "only showing top 20 rows\n"
     ]
    }
   ],
   "source": [
    "save_show(supplier_avg_prices, \"5_avgsupplierprice\", \"supplier_id\")"
   ]
  },
  {
   "cell_type": "markdown",
   "id": "66d897d9",
   "metadata": {},
   "source": [
    "### Распределение продаж по странам поставщиков"
   ]
  },
  {
   "cell_type": "code",
   "execution_count": 38,
   "id": "f5eb0c93",
   "metadata": {},
   "outputs": [],
   "source": [
    "sales_by_supplier_country = f_sales \\\n",
    "    .join(d_product, f_sales.sale_product_id == d_product.product_id) \\\n",
    "    .join(d_supplier, d_product.supplier_id == d_supplier.supplier_id) \\\n",
    "    .groupBy(\"supplier_country\") \\\n",
    "    .agg(\n",
    "        sum(\"sale_total_price\").alias(\"total_revenue\"),\n",
    "        count(\"sale_id\").alias(\"order_count\"),\n",
    "        sum(\"sale_quantity\").alias(\"total_items_sold\")\n",
    "    )"
   ]
  },
  {
   "cell_type": "code",
   "execution_count": 39,
   "id": "9624695b",
   "metadata": {},
   "outputs": [
    {
     "name": "stdout",
     "output_type": "stream",
     "text": [
      "+-------------------+--------------------+-----------+----------------+\n",
      "|   supplier_country|       total_revenue|order_count|total_items_sold|\n",
      "+-------------------+--------------------+-----------+----------------+\n",
      "|        Afghanistan|9068.100000000000...|         41|             201|\n",
      "|            Albania|11172.62000000000...|         46|             250|\n",
      "|            Algeria|230.2500000000000...|          1|               8|\n",
      "|     American Samoa|185.1000000000000...|          2|              11|\n",
      "|            Andorra|344.8200000000000...|          2|               9|\n",
      "|             Angola|1951.180000000000...|         11|              57|\n",
      "|Antigua and Barbuda|835.6400000000000...|          4|              19|\n",
      "|          Argentina|35606.32000000000...|        131|             691|\n",
      "|            Armenia|7467.310000000000...|         29|             189|\n",
      "|              Aruba|90.49000000000000...|          1|               1|\n",
      "|          Australia|2946.940000000000...|         13|              65|\n",
      "|            Austria|1650.100000000000...|          6|              31|\n",
      "|         Azerbaijan|6263.130000000000...|         32|             175|\n",
      "|            Bahamas|1311.610000000000...|          6|              41|\n",
      "|            Bahrain|852.4200000000000...|          3|              18|\n",
      "|         Bangladesh|5848.220000000000...|         25|             156|\n",
      "|           Barbados|434.1000000000000...|          1|              10|\n",
      "|            Belarus|9483.510000000000...|         33|             166|\n",
      "|            Belgium|298.8500000000000...|          2|              13|\n",
      "|             Belize|1068.470000000000...|          5|              25|\n",
      "+-------------------+--------------------+-----------+----------------+\n",
      "only showing top 20 rows\n"
     ]
    },
    {
     "name": "stderr",
     "output_type": "stream",
     "text": [
      "25/05/25 19:18:22 WARN ClickHouseConnectionImpl: [JDBC Compliant Mode] Transaction is not supported. You may change jdbcCompliant to false to throw SQLException instead.\n",
      "25/05/25 19:18:22 WARN ClickHouseConnectionImpl: [JDBC Compliant Mode] Transaction is not supported. You may change jdbcCompliant to false to throw SQLException instead.\n",
      "25/05/25 19:18:22 WARN ClickHouseConnectionImpl: [JDBC Compliant Mode] Transaction [4daeee0a-c94c-43bd-83bc-11baa7a46d8b] (2 queries & 0 savepoints) is committed.\n",
      "25/05/25 19:18:22 WARN ClickHouseConnectionImpl: [JDBC Compliant Mode] Transaction [b10b6618-661b-4692-a1ff-6cd7ec91fe5e] (0 queries & 0 savepoints) is committed.\n"
     ]
    }
   ],
   "source": [
    "save_show(sales_by_supplier_country, \"5_salesbysuppliercountry\", \"supplier_country\")"
   ]
  },
  {
   "cell_type": "markdown",
   "id": "33862a57",
   "metadata": {},
   "source": [
    "## 6. Качество продукции"
   ]
  },
  {
   "cell_type": "markdown",
   "id": "7ad4eeaf",
   "metadata": {},
   "source": [
    "### Продукты с наивысшим и наименьшим рейтингом"
   ]
  },
  {
   "cell_type": "code",
   "execution_count": 40,
   "id": "3ee201ee",
   "metadata": {},
   "outputs": [],
   "source": [
    "rated_products = d_product \\\n",
    "    .select(\n",
    "        \"product_id\",\n",
    "        \"product_rating\"\n",
    "    )"
   ]
  },
  {
   "cell_type": "code",
   "execution_count": 41,
   "id": "33ca4a15",
   "metadata": {},
   "outputs": [
    {
     "name": "stderr",
     "output_type": "stream",
     "text": [
      "25/05/25 19:18:22 WARN ClickHouseConnectionImpl: [JDBC Compliant Mode] Transaction is not supported. You may change jdbcCompliant to false to throw SQLException instead.\n",
      "25/05/25 19:18:22 WARN ClickHouseConnectionImpl: [JDBC Compliant Mode] Transaction is not supported. You may change jdbcCompliant to false to throw SQLException instead.\n",
      "25/05/25 19:18:22 WARN ClickHouseConnectionImpl: [JDBC Compliant Mode] Transaction [c1f38c8c-94d1-4c00-8a4f-31a8f977db74] (11 queries & 0 savepoints) is committed.\n",
      "25/05/25 19:18:22 WARN ClickHouseConnectionImpl: [JDBC Compliant Mode] Transaction [5d8e5415-bbcf-4664-8141-25faac69117d] (0 queries & 0 savepoints) is committed.\n"
     ]
    },
    {
     "name": "stdout",
     "output_type": "stream",
     "text": [
      "+----------+--------------------+\n",
      "|product_id|      product_rating|\n",
      "+----------+--------------------+\n",
      "|      8996|2.500000000000000000|\n",
      "|      8997|1.200000000000000000|\n",
      "|      8998|2.500000000000000000|\n",
      "|      8999|4.900000000000000000|\n",
      "|      9000|3.800000000000000000|\n",
      "|      9001|3.000000000000000000|\n",
      "|      9002|1.800000000000000000|\n",
      "|      9003|4.500000000000000000|\n",
      "|      9004|1.100000000000000000|\n",
      "|      9005|4.000000000000000000|\n",
      "|      9006|2.400000000000000000|\n",
      "|      9007|2.600000000000000000|\n",
      "|      9008|3.300000000000000000|\n",
      "|      9009|4.600000000000000000|\n",
      "|      9010|3.300000000000000000|\n",
      "|      9011|4.100000000000000000|\n",
      "|      9012|2.400000000000000000|\n",
      "|      9013|3.700000000000000000|\n",
      "|      9014|1.100000000000000000|\n",
      "|      9015|2.800000000000000000|\n",
      "+----------+--------------------+\n",
      "only showing top 20 rows\n"
     ]
    }
   ],
   "source": [
    "save_show(rated_products, \"6_productrating_asc\", \"product_id\")\n",
    "# Можно сортировать при выводе\n"
   ]
  },
  {
   "cell_type": "markdown",
   "id": "6522aa21",
   "metadata": {},
   "source": [
    "### Корреляция между рейтингом и объемом продаж"
   ]
  },
  {
   "cell_type": "code",
   "execution_count": 42,
   "id": "e46f81e2",
   "metadata": {},
   "outputs": [],
   "source": [
    "rating_sales_correlation = d_product \\\n",
    "    .join(\n",
    "        f_sales.groupBy(\"sale_product_id\")\n",
    "            .agg(\n",
    "                sum(\"sale_quantity\").alias(\"total_quantity_sold\"),\n",
    "                sum(\"sale_total_price\").alias(\"total_revenue\"),\n",
    "                count(\"sale_id\").alias(\"order_count\")\n",
    "            ),\n",
    "        d_product.product_id == f_sales.sale_product_id\n",
    "    ) \\\n",
    "    .select(\n",
    "        \"product_id\",\n",
    "        \"product_rating\",\n",
    "        \"total_quantity_sold\",\n",
    "        \"total_revenue\",\n",
    "        \"order_count\"\n",
    "    )"
   ]
  },
  {
   "cell_type": "code",
   "execution_count": 43,
   "id": "f37801fd",
   "metadata": {},
   "outputs": [
    {
     "name": "stderr",
     "output_type": "stream",
     "text": [
      "25/05/25 19:18:23 WARN ClickHouseConnectionImpl: [JDBC Compliant Mode] Transaction is not supported. You may change jdbcCompliant to false to throw SQLException instead.\n",
      "25/05/25 19:18:23 WARN ClickHouseConnectionImpl: [JDBC Compliant Mode] Transaction is not supported. You may change jdbcCompliant to false to throw SQLException instead.\n",
      "25/05/25 19:18:23 WARN ClickHouseConnectionImpl: [JDBC Compliant Mode] Transaction [a8352aa6-c130-4ab2-a8cb-41bde128a056] (11 queries & 0 savepoints) is committed.\n",
      "25/05/25 19:18:23 WARN ClickHouseConnectionImpl: [JDBC Compliant Mode] Transaction [6d4c42e0-02e7-4a24-bca4-aec19f446873] (0 queries & 0 savepoints) is committed.\n"
     ]
    },
    {
     "name": "stdout",
     "output_type": "stream",
     "text": [
      "+----------+--------------------+-------------------+--------------------+-----------+\n",
      "|product_id|      product_rating|total_quantity_sold|       total_revenue|order_count|\n",
      "+----------+--------------------+-------------------+--------------------+-----------+\n",
      "|        21|1.000000000000000000|                  8|143.1700000000000...|          1|\n",
      "|        29|2.400000000000000000|                 10|484.6100000000000...|          1|\n",
      "|        32|3.700000000000000000|                  5|436.6700000000000...|          1|\n",
      "|        56|5.000000000000000000|                  1|410.7700000000000...|          1|\n",
      "|        60|3.600000000000000000|                  5|449.5200000000000...|          1|\n",
      "|        75|2.100000000000000000|                  5|266.1500000000000...|          1|\n",
      "|        90|2.400000000000000000|                  5|424.6400000000000...|          1|\n",
      "|        95|1.500000000000000000|                  6|498.8400000000000...|          1|\n",
      "|        98|2.900000000000000000|                  8|483.6000000000000...|          1|\n",
      "|       109|3.800000000000000000|                  8|395.5700000000000...|          1|\n",
      "|       141|2.700000000000000000|                 10|467.9900000000000...|          1|\n",
      "|       143|2.900000000000000000|                  8|207.7100000000000...|          1|\n",
      "|       145|4.700000000000000000|                  2|310.9700000000000...|          1|\n",
      "|       151|2.800000000000000000|                 10|168.0700000000000...|          1|\n",
      "|       195|1.900000000000000000|                  8|106.7900000000000...|          1|\n",
      "|       200|3.500000000000000000|                  4|32.93000000000000...|          1|\n",
      "|       203|4.100000000000000000|                  1|49.39000000000000...|          1|\n",
      "|       213|4.900000000000000000|                  6|11.83000000000000...|          1|\n",
      "|       214|4.700000000000000000|                  9|298.0600000000000...|          1|\n",
      "|       219|3.000000000000000000|                  2|50.73000000000000...|          1|\n",
      "+----------+--------------------+-------------------+--------------------+-----------+\n",
      "only showing top 20 rows\n"
     ]
    }
   ],
   "source": [
    "save_show(rating_sales_correlation, \"6_ratingsalescorrelation\", \"product_id\")"
   ]
  },
  {
   "cell_type": "markdown",
   "id": "7737aeb7",
   "metadata": {},
   "source": [
    "### Продукты с наибольшим количеством отзывов"
   ]
  },
  {
   "cell_type": "code",
   "execution_count": 44,
   "id": "b9c97f65",
   "metadata": {},
   "outputs": [],
   "source": [
    "most_reviewed_products = d_product \\\n",
    "    .select(\n",
    "        \"product_id\",\n",
    "        \"product_reviews\"\n",
    "    )"
   ]
  },
  {
   "cell_type": "code",
   "execution_count": 45,
   "id": "7f6ed7f3",
   "metadata": {},
   "outputs": [
    {
     "name": "stderr",
     "output_type": "stream",
     "text": [
      "25/05/25 19:18:23 WARN ClickHouseConnectionImpl: [JDBC Compliant Mode] Transaction is not supported. You may change jdbcCompliant to false to throw SQLException instead.\n",
      "25/05/25 19:18:23 WARN ClickHouseConnectionImpl: [JDBC Compliant Mode] Transaction is not supported. You may change jdbcCompliant to false to throw SQLException instead.\n",
      "25/05/25 19:18:23 WARN ClickHouseConnectionImpl: [JDBC Compliant Mode] Transaction [4e761645-97f5-4ed6-8a55-84063ad5263c] (11 queries & 0 savepoints) is committed.\n",
      "25/05/25 19:18:23 WARN ClickHouseConnectionImpl: [JDBC Compliant Mode] Transaction [deae9055-5e0f-423a-ad98-3a4e7702825b] (0 queries & 0 savepoints) is committed.\n"
     ]
    },
    {
     "name": "stdout",
     "output_type": "stream",
     "text": [
      "+----------+---------------+\n",
      "|product_id|product_reviews|\n",
      "+----------+---------------+\n",
      "|         1|             19|\n",
      "|         2|            721|\n",
      "|         3|            616|\n",
      "|         4|            532|\n",
      "|         5|             36|\n",
      "|         6|            182|\n",
      "|         7|            499|\n",
      "|         8|            969|\n",
      "|         9|            445|\n",
      "|        10|            824|\n",
      "|        11|            124|\n",
      "|        12|            209|\n",
      "|        13|            125|\n",
      "|        14|            712|\n",
      "|        15|             77|\n",
      "|        16|            514|\n",
      "|        17|            306|\n",
      "|        18|            174|\n",
      "|        19|            204|\n",
      "|        20|            400|\n",
      "+----------+---------------+\n",
      "only showing top 20 rows\n"
     ]
    }
   ],
   "source": [
    "save_show(most_reviewed_products, \"6_productreviewcount\", \"product_id\")"
   ]
  },
  {
   "cell_type": "markdown",
   "id": "403e78e6",
   "metadata": {},
   "source": [
    "# Закрытие сессии"
   ]
  },
  {
   "cell_type": "code",
   "execution_count": 46,
   "id": "f081daaf",
   "metadata": {},
   "outputs": [],
   "source": [
    "spark.stop()"
   ]
  }
 ],
 "metadata": {
  "kernelspec": {
   "display_name": "Python 3",
   "language": "python",
   "name": "python3"
  },
  "language_info": {
   "codemirror_mode": {
    "name": "ipython",
    "version": 3
   },
   "file_extension": ".py",
   "mimetype": "text/x-python",
   "name": "python",
   "nbconvert_exporter": "python",
   "pygments_lexer": "ipython3",
   "version": "3.10.11"
  }
 },
 "nbformat": 4,
 "nbformat_minor": 5
}
