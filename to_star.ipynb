{
 "cells": [
  {
   "cell_type": "markdown",
   "metadata": {},
   "source": [
    "# Общая настройка"
   ]
  },
  {
   "cell_type": "code",
   "execution_count": 3,
   "metadata": {},
   "outputs": [],
   "source": [
    "import os\n",
    "os.environ['PYSPARK_SUBMIT_ARGS'] = '--jars ./jars/postgresql-42.6.0.jar,./jars/clickhouse-jdbc-0.4.6.jar pyspark-shell'"
   ]
  },
  {
   "cell_type": "code",
   "execution_count": 4,
   "metadata": {},
   "outputs": [],
   "source": [
    "from dotenv import load_dotenv\n",
    "\n",
    "load_dotenv()\n",
    "\n",
    "DB_NAME = os.getenv(\"POSTGRES_DB\")\n",
    "DB_USER = os.getenv(\"POSTGRES_USER\")\n",
    "DB_PASSWORD = os.getenv(\"POSTGRES_PASSWORD\")\n",
    "DB_HOST = os.getenv(\"POSTGRES_HOST\")\n",
    "DB_PORT = os.getenv(\"POSTGRES_PORT\")"
   ]
  },
  {
   "cell_type": "markdown",
   "metadata": {},
   "source": [
    "# Создание таблиц"
   ]
  },
  {
   "cell_type": "code",
   "execution_count": 3,
   "metadata": {},
   "outputs": [],
   "source": [
    "import psycopg2\n",
    "\n",
    "def create_tables():\n",
    "    try:\n",
    "        # Подключение к базе данных\n",
    "        conn = psycopg2.connect(\n",
    "            dbname=DB_NAME,\n",
    "            user=DB_USER,\n",
    "            password=DB_PASSWORD,\n",
    "            host=DB_HOST,\n",
    "            port=DB_PORT\n",
    "        )\n",
    "        cursor = conn.cursor()\n",
    "\n",
    "        cursor.execute(\"\"\"\n",
    "            CREATE TABLE IF NOT EXISTS d_customer (\n",
    "                customer_id SERIAL PRIMARY KEY,\n",
    "                customer_first_name TEXT,\n",
    "                customer_last_name TEXT,\n",
    "                customer_email TEXT,\n",
    "                customer_age INTEGER,\n",
    "                customer_country TEXT,\n",
    "                customer_postal_code TEXT,\n",
    "                customer_pet_name TEXT,\n",
    "                customer_pet_type TEXT,\n",
    "                customer_pet_breed TEXT\n",
    "            )\n",
    "        \"\"\")\n",
    "\n",
    "        cursor.execute(\"\"\"\n",
    "            CREATE TABLE IF NOT EXISTS d_supplier (\n",
    "                supplier_id SERIAL PRIMARY KEY,\n",
    "                supplier_name TEXT,\n",
    "                supplier_email TEXT,\n",
    "                supplier_phone TEXT,\n",
    "                supplier_contact TEXT,\n",
    "                supplier_country TEXT,\n",
    "                supplier_city TEXT,\n",
    "                supplier_address TEXT\n",
    "            )\n",
    "        \"\"\")\n",
    "\n",
    "        cursor.execute(\"\"\"\n",
    "            CREATE TABLE IF NOT EXISTS d_product (\n",
    "                product_id SERIAL PRIMARY KEY,\n",
    "                product_name TEXT,\n",
    "                product_category TEXT,\n",
    "                pet_category TEXT,\n",
    "                product_brand TEXT,\n",
    "                product_price DECIMAL,\n",
    "                product_quantity INTEGER,\n",
    "                product_size TEXT,\n",
    "                product_weight DECIMAL,\n",
    "                product_color TEXT,\n",
    "                product_material TEXT,\n",
    "                product_description TEXT,\n",
    "                product_rating DECIMAL,\n",
    "                product_reviews INTEGER,\n",
    "                product_release_date DATE,\n",
    "                product_expiry_date DATE,\n",
    "                supplier_id INTEGER REFERENCES d_supplier(supplier_id)\n",
    "            )\n",
    "        \"\"\")\n",
    "\n",
    "        cursor.execute(\"\"\"\n",
    "            CREATE TABLE IF NOT EXISTS d_seller (\n",
    "                seller_id SERIAL PRIMARY KEY,\n",
    "                seller_first_name TEXT,\n",
    "                seller_last_name TEXT,\n",
    "                seller_email TEXT,\n",
    "                seller_country TEXT,\n",
    "                seller_postal_code TEXT\n",
    "            )\n",
    "        \"\"\")\n",
    "\n",
    "        cursor.execute(\"\"\"\n",
    "            CREATE TABLE IF NOT EXISTS d_store (\n",
    "                store_id SERIAL PRIMARY KEY,\n",
    "                store_name TEXT,\n",
    "                store_location TEXT,\n",
    "                store_city TEXT,\n",
    "                store_state TEXT,\n",
    "                store_country TEXT,\n",
    "                store_email TEXT,\n",
    "                store_phone TEXT\n",
    "            )\n",
    "        \"\"\")\n",
    "\n",
    "        cursor.execute(\"\"\"\n",
    "            CREATE TABLE IF NOT EXISTS f_sales (\n",
    "                sale_id SERIAL PRIMARY KEY,\n",
    "                sale_date DATE,\n",
    "                sale_customer_id INTEGER REFERENCES d_customer(customer_id),\n",
    "                sale_product_id INTEGER REFERENCES d_product(product_id),\n",
    "                sale_seller_id INTEGER REFERENCES d_seller(seller_id),\n",
    "                sale_quantity INTEGER,\n",
    "                sale_total_price DECIMAL\n",
    "            )\n",
    "        \"\"\")\n",
    "\n",
    "        conn.commit()\n",
    "        cursor.close()\n",
    "        conn.close()\n",
    "\n",
    "    except Exception as e:\n",
    "        print(f\"Ошибка: {e}\")"
   ]
  },
  {
   "cell_type": "code",
   "execution_count": 4,
   "metadata": {},
   "outputs": [],
   "source": [
    "create_tables()"
   ]
  },
  {
   "cell_type": "markdown",
   "metadata": {},
   "source": [
    "# Перевод данных в звезду"
   ]
  },
  {
   "cell_type": "markdown",
   "metadata": {},
   "source": [
    "### Создание соединения"
   ]
  },
  {
   "cell_type": "code",
   "execution_count": 5,
   "metadata": {},
   "outputs": [
    {
     "name": "stderr",
     "output_type": "stream",
     "text": [
      "WARNING: Using incubator modules: jdk.incubator.vector\n",
      "25/05/24 16:26:31 WARN NativeCodeLoader: Unable to load native-hadoop library for your platform... using builtin-java classes where applicable\n",
      "Using Spark's default log4j profile: org/apache/spark/log4j2-defaults.properties\n",
      "Setting default log level to \"WARN\".\n",
      "To adjust logging level use sc.setLogLevel(newLevel). For SparkR, use setLogLevel(newLevel).\n"
     ]
    }
   ],
   "source": [
    "from pyspark.sql import SparkSession\n",
    "from pyspark.sql.functions import col, to_date\n",
    "\n",
    "spark = SparkSession.builder \\\n",
    "    .appName(\"Spark SQL with PostgreSQL\") \\\n",
    "    .getOrCreate()"
   ]
  },
  {
   "cell_type": "markdown",
   "metadata": {},
   "source": [
    "### Настройки соединения и считывание основной таблицы"
   ]
  },
  {
   "cell_type": "code",
   "execution_count": 6,
   "metadata": {},
   "outputs": [],
   "source": [
    "jdbc_url = f\"jdbc:postgresql://{DB_HOST}:{DB_PORT}/{DB_NAME}\"\n",
    "properties = {\n",
    "    \"user\": DB_USER,\n",
    "    \"password\": DB_PASSWORD,\n",
    "    \"driver\": \"org.postgresql.Driver\"\n",
    "}\n",
    "\n",
    "source_table = spark.read.jdbc(\n",
    "    url=jdbc_url,\n",
    "    table=\"mock_data\",\n",
    "    properties=properties\n",
    ").withColumn(\"sale_date\", to_date(\"product_release_date\", \"m/d/yyyy\")) \\\n",
    ".withColumn(\"product_release_date\", to_date(\"product_release_date\", \"m/d/yyyy\")) \\\n",
    ".withColumn(\"product_expiry_date\", to_date(\"product_expiry_date\", \"m/d/yyyy\"))"
   ]
  },
  {
   "cell_type": "markdown",
   "metadata": {},
   "source": [
    "## Таблицы измерений"
   ]
  },
  {
   "cell_type": "markdown",
   "metadata": {},
   "source": [
    "### Покупатели"
   ]
  },
  {
   "cell_type": "code",
   "execution_count": 7,
   "metadata": {},
   "outputs": [
    {
     "name": "stderr",
     "output_type": "stream",
     "text": [
      "25/05/24 16:14:30 WARN SparkStringUtils: Truncated the string representation of a plan since it was too large. This behavior can be adjusted by setting 'spark.sql.debug.maxToStringFields'.\n",
      "                                                                                \r"
     ]
    }
   ],
   "source": [
    "customers = source_table.select([\n",
    "    \"customer_first_name\",\n",
    "    \"customer_last_name\",\n",
    "    \"customer_email\",\n",
    "    \"customer_age\",\n",
    "    \"customer_country\",\n",
    "    \"customer_postal_code\",\n",
    "    \"customer_pet_name\",\n",
    "    \"customer_pet_type\",\n",
    "    \"customer_pet_breed\",\n",
    "]).distinct()\n",
    "\n",
    "customers.write.jdbc(\n",
    "    url=jdbc_url,\n",
    "    table=\"d_customer\",\n",
    "    mode=\"append\",\n",
    "    properties=properties\n",
    ")"
   ]
  },
  {
   "cell_type": "markdown",
   "metadata": {},
   "source": [
    "### Поставщики"
   ]
  },
  {
   "cell_type": "code",
   "execution_count": 8,
   "metadata": {},
   "outputs": [],
   "source": [
    "suppliers = source_table.select([\n",
    "    \"supplier_name\",\n",
    "    \"supplier_email\",\n",
    "    \"supplier_phone\",\n",
    "    \"supplier_contact\",\n",
    "    \"supplier_country\",\n",
    "    \"supplier_city\",\n",
    "    \"supplier_address\"\n",
    "]).distinct()\n",
    "\n",
    "suppliers.write.jdbc(\n",
    "    url=jdbc_url,\n",
    "    table=\"d_supplier\",\n",
    "    mode=\"append\",\n",
    "    properties=properties\n",
    ")"
   ]
  },
  {
   "cell_type": "markdown",
   "metadata": {},
   "source": [
    "### Продукты"
   ]
  },
  {
   "cell_type": "code",
   "execution_count": 5,
   "metadata": {},
   "outputs": [],
   "source": [
    "suppliers_with_id = spark.read.jdbc(\n",
    "    url=jdbc_url,\n",
    "    table=\"d_supplier\",\n",
    "    properties=properties\n",
    ")"
   ]
  },
  {
   "cell_type": "code",
   "execution_count": 10,
   "metadata": {},
   "outputs": [
    {
     "name": "stderr",
     "output_type": "stream",
     "text": [
      "                                                                                \r"
     ]
    }
   ],
   "source": [
    "products = source_table.join(suppliers_with_id, on=\"supplier_name\").select([\n",
    "    \"product_name\",\n",
    "    \"product_category\",\n",
    "    \"pet_category\",\n",
    "    \"product_brand\",\n",
    "    \"product_price\",\n",
    "    \"product_quantity\",\n",
    "    \"product_size\",\n",
    "    \"product_weight\",\n",
    "    \"product_color\",\n",
    "    \"product_material\",\n",
    "    \"product_description\",\n",
    "    \"product_rating\",\n",
    "    \"product_reviews\",\n",
    "    \"product_release_date\",\n",
    "    \"product_expiry_date\",\n",
    "    \"supplier_id\"\n",
    "]).distinct()\n",
    "\n",
    "products.write.jdbc(\n",
    "    url=jdbc_url,\n",
    "    table=\"d_product\",\n",
    "    mode=\"append\",\n",
    "    properties=properties\n",
    ")"
   ]
  },
  {
   "cell_type": "markdown",
   "metadata": {},
   "source": [
    "### Продавцы"
   ]
  },
  {
   "cell_type": "code",
   "execution_count": 7,
   "metadata": {},
   "outputs": [
    {
     "name": "stderr",
     "output_type": "stream",
     "text": [
      "25/05/24 16:26:46 WARN SparkStringUtils: Truncated the string representation of a plan since it was too large. This behavior can be adjusted by setting 'spark.sql.debug.maxToStringFields'.\n",
      "                                                                                \r"
     ]
    }
   ],
   "source": [
    "sellers = source_table.select([\n",
    "    \"seller_first_name\",\n",
    "    \"seller_last_name\",\n",
    "    \"seller_email\",\n",
    "    \"seller_country\",\n",
    "    \"seller_postal_code\"\n",
    "]).distinct()\n",
    "\n",
    "sellers.write.jdbc(\n",
    "    url=jdbc_url,\n",
    "    table=\"d_seller\",\n",
    "    mode=\"append\",\n",
    "    properties=properties\n",
    ")"
   ]
  },
  {
   "cell_type": "markdown",
   "metadata": {},
   "source": [
    "### Магазины"
   ]
  },
  {
   "cell_type": "code",
   "execution_count": 8,
   "metadata": {},
   "outputs": [],
   "source": [
    "stores = source_table.select([\n",
    "    \"store_name\",  \n",
    "    \"store_location\",  \n",
    "    \"store_city\",  \n",
    "    \"store_state\",  \n",
    "    \"store_country\",  \n",
    "    \"store_email\",  \n",
    "    \"store_phone\"\n",
    "]).distinct()\n",
    "\n",
    "stores.write.jdbc(\n",
    "    url=jdbc_url,\n",
    "    table=\"d_store\",\n",
    "    mode=\"append\",\n",
    "    properties=properties\n",
    ")"
   ]
  },
  {
   "cell_type": "markdown",
   "metadata": {},
   "source": [
    "## Таблица фактов"
   ]
  },
  {
   "cell_type": "code",
   "execution_count": null,
   "metadata": {},
   "outputs": [],
   "source": []
  }
 ],
 "metadata": {
  "kernelspec": {
   "display_name": "Python 3",
   "language": "python",
   "name": "python3"
  },
  "language_info": {
   "codemirror_mode": {
    "name": "ipython",
    "version": 3
   },
   "file_extension": ".py",
   "mimetype": "text/x-python",
   "name": "python",
   "nbconvert_exporter": "python",
   "pygments_lexer": "ipython3",
   "version": "3.10.11"
  }
 },
 "nbformat": 4,
 "nbformat_minor": 2
}
